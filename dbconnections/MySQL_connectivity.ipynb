{
 "cells": [
  {
   "cell_type": "code",
   "execution_count": null,
   "id": "77ae8dc1",
   "metadata": {},
   "outputs": [],
   "source": [
    "import mysql.connector as sql  # Mysql.connector module import and aliasing it to'sql'.\n",
    "\n",
    "import os  # importing the OS module, even though it doesn't appear to be utilized in this code.\n",
    "\n",
    "# Opening an instance of the MySQL database.\n",
    "#Information Parameters\n",
    "# host: 'localhost' in this example is the hostname where the MySQL database is housed.\n",
    "#user: 'root' is the username used to connect to the MySQL database.\n",
    "#password: \"waleed123\" is the password that is used in this instance to authenticate the user.\n",
    "# database: 'task' is the name of the database to connect to in this case.\n",
    "#use_pure: A boolean parameter, set to True in this case, that indicates whether or not to use the pure Python implementation.\n",
    "\n",
    "mydb = sql.connect(host='localhost', user='root', password='waleed1234', database='task', use_pure=True)\n",
    "\n",
    "#Building the cursor object that will be utilized for SQL query execution.\n",
    "\n",
    "mycursor = mydb.cursor()\n",
    "\n",
    "# Running a SQL query to establish a new table called \"address\" with a single VARCHAR-type field called \"address\" that can have a maximum length of 25.\n",
    "mycursor.execute('CREATE TABLE (address VARCHAR(25))')\n",
    "\n",
    "# Running a SQL query to obtain the table names in the active database.\n",
    "mycursor.execute('SHOW TABLES')\n",
    "\n",
    "# Iterating over the result set that was produced when the 'SHOW TABLES' query was run.\n",
    "# The loop retrieves a table name and outputs it after each iteration.\n",
    "\n",
    "for x in mycursor:\n",
    "    print(x)\n"
   ]
  }
 ],
 "metadata": {
  "kernelspec": {
   "display_name": "Python 3 (ipykernel)",
   "language": "python",
   "name": "python3"
  },
  "language_info": {
   "codemirror_mode": {
    "name": "ipython",
    "version": 3
   },
   "file_extension": ".py",
   "mimetype": "text/x-python",
   "name": "python",
   "nbconvert_exporter": "python",
   "pygments_lexer": "ipython3",
   "version": "3.11.8"
  }
 },
 "nbformat": 4,
 "nbformat_minor": 5
}
