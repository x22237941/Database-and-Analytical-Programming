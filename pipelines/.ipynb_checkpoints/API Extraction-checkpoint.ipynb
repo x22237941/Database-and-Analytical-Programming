{
 "cells": [
  {
   "cell_type": "code",
   "execution_count": 1,
   "id": "83f8521a-41d8-479c-ba26-01745d5b6478",
   "metadata": {},
   "outputs": [
    {
     "name": "stdout",
     "output_type": "stream",
     "text": [
      "Requirement already satisfied: sodapy in c:\\users\\sana jalgaonkar\\appdata\\local\\programs\\python\\python312\\lib\\site-packages (2.2.0)Note: you may need to restart the kernel to use updated packages.\n",
      "\n",
      "Requirement already satisfied: requests>=2.28.1 in c:\\users\\sana jalgaonkar\\appdata\\local\\programs\\python\\python312\\lib\\site-packages (from sodapy) (2.31.0)\n",
      "Requirement already satisfied: charset-normalizer<4,>=2 in c:\\users\\sana jalgaonkar\\appdata\\local\\programs\\python\\python312\\lib\\site-packages (from requests>=2.28.1->sodapy) (3.3.2)\n",
      "Requirement already satisfied: idna<4,>=2.5 in c:\\users\\sana jalgaonkar\\appdata\\local\\programs\\python\\python312\\lib\\site-packages (from requests>=2.28.1->sodapy) (3.6)\n",
      "Requirement already satisfied: urllib3<3,>=1.21.1 in c:\\users\\sana jalgaonkar\\appdata\\local\\programs\\python\\python312\\lib\\site-packages (from requests>=2.28.1->sodapy) (2.2.1)\n",
      "Requirement already satisfied: certifi>=2017.4.17 in c:\\users\\sana jalgaonkar\\appdata\\local\\programs\\python\\python312\\lib\\site-packages (from requests>=2.28.1->sodapy) (2024.2.2)\n"
     ]
    }
   ],
   "source": [
    "pip install sodapy"
   ]
  },
  {
   "cell_type": "markdown",
   "id": "0b5de7bd-e428-4651-a921-7567ea073be4",
   "metadata": {},
   "source": [
    "#### Reference fo API usage: https://github.com/xmunoz/sodapy/blob/master/examples/basic_queries.ipynb"
   ]
  },
  {
   "cell_type": "markdown",
   "id": "4c6c9fa1-bc82-45dd-a81f-b4da5c8bce54",
   "metadata": {},
   "source": [
    "#### The App token can be generated at :"
   ]
  },
  {
   "cell_type": "markdown",
   "id": "b85c8202-c202-4154-87b8-24b721b52b0b",
   "metadata": {},
   "source": [
    "https://data.montgomerycountymd.gov/signup"
   ]
  },
  {
   "cell_type": "markdown",
   "id": "175d6d55-e9c8-4ff9-af85-b2ad68f1bf56",
   "metadata": {},
   "source": [
    "#### One has to signup at the official site provide up and confirm their email address"
   ]
  },
  {
   "cell_type": "markdown",
   "id": "904ba795-ef2b-4c00-b849-0cb8bb2be6d1",
   "metadata": {},
   "source": [
    "#### After logging in use https://data.montgomerycountymd.gov/profile/edit/developer_settings to generate the API key"
   ]
  },
  {
   "cell_type": "code",
   "execution_count": 2,
   "id": "98b7a906-5768-4a73-81ea-62f3dbc75282",
   "metadata": {},
   "outputs": [],
   "source": [
    "import os\n",
    "import pandas as pd\n",
    "import numpy as np\n",
    "from sodapy import Socrata"
   ]
  },
  {
   "cell_type": "code",
   "execution_count": null,
   "id": "5c28ee01-5a84-49dd-b1ec-aba0e4a4b84b",
   "metadata": {},
   "outputs": [],
   "source": []
  }
 ],
 "metadata": {
  "kernelspec": {
   "display_name": "Python 3 (ipykernel)",
   "language": "python",
   "name": "python3"
  },
  "language_info": {
   "codemirror_mode": {
    "name": "ipython",
    "version": 3
   },
   "file_extension": ".py",
   "mimetype": "text/x-python",
   "name": "python",
   "nbconvert_exporter": "python",
   "pygments_lexer": "ipython3",
   "version": "3.12.2"
  }
 },
 "nbformat": 4,
 "nbformat_minor": 5
}
