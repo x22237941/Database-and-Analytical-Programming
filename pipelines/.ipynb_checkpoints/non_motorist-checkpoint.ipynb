{
 "cells": [
  {
   "cell_type": "code",
   "execution_count": null,
   "id": "d9cd48ce-9b6f-4a62-bfbf-47fa21dbf5dd",
   "metadata": {},
   "outputs": [],
   "source": []
  },
  {
   "cell_type": "code",
   "execution_count": 1,
   "id": "48da1c95-8efb-4914-a743-9a0137411324",
   "metadata": {},
   "outputs": [],
   "source": [
    "import mysql.connector as mysql  \n",
    "import os  \n",
    "import numpy as np\n",
    "import pandas as pd\n",
    "from sqlalchemy import create_engine\n",
    "import numpy as np\n",
    "import matplotlib.pyplot as plt\n",
    "import seaborn as sns\n",
    "%matplotlib inline"
   ]
  },
  {
   "cell_type": "code",
   "execution_count": null,
   "id": "d5d79ce4-9052-4adc-8653-2938f47a15b1",
   "metadata": {},
   "outputs": [],
   "source": []
  },
  {
   "cell_type": "code",
   "execution_count": 2,
   "id": "a6245725-c486-49df-940c-5db3c04d2c94",
   "metadata": {},
   "outputs": [],
   "source": [
    "Data =\"../Database-and-Analytical-Programming/dataset/Non-Motorists_Data_20240404.csv\""
   ]
  },
  {
   "cell_type": "code",
   "execution_count": 3,
   "id": "7cf78ff4-96e5-4dc0-b587-a70402a20f4c",
   "metadata": {},
   "outputs": [
    {
     "name": "stdout",
     "output_type": "stream",
     "text": [
      "Connected to MySQL database\n"
     ]
    }
   ],
   "source": [
    "# MySQL database connection parameters\n",
    "host = 'localhost'\n",
    "user = 'root'\n",
    "password = 'waleed123'\n",
    "database = 'montgomery'\n",
    "\n",
    "# Establish connection\n",
    "connection = mysql.connect(\n",
    "            host=host,\n",
    "            user=user,\n",
    "            password=password,\n",
    "            database=database\n",
    ")\n",
    "\n",
    "if connection.is_connected():\n",
    "    print(\"Connected to MySQL database\")"
   ]
  },
  {
   "cell_type": "code",
   "execution_count": 4,
   "id": "454ba4e0-ca4f-435f-a2e1-0ed9fd7a1f08",
   "metadata": {},
   "outputs": [
    {
     "data": {
      "text/plain": [
       "<mysql.connector.connection_cext.CMySQLConnection at 0x1e0c4d11cd0>"
      ]
     },
     "execution_count": 4,
     "metadata": {},
     "output_type": "execute_result"
    }
   ],
   "source": [
    "connection"
   ]
  },
  {
   "cell_type": "code",
   "execution_count": 5,
   "id": "40a014cb-82d9-4fa9-be6a-6a5f4a0753f3",
   "metadata": {},
   "outputs": [],
   "source": [
    "mycursor=connection.cursor()"
   ]
  },
  {
   "cell_type": "code",
   "execution_count": 6,
   "id": "a2ffe961-4cd8-44e9-96c3-bfe66b2f737a",
   "metadata": {},
   "outputs": [],
   "source": [
    "query=\"SELECT count(*) FROM non_motorists\"\n",
    "mycursor.execute(query)\n",
    "results = mycursor.fetchall()"
   ]
  },
  {
   "cell_type": "code",
   "execution_count": 7,
   "id": "b59758c2-e7ca-4575-9712-2c584b1daab4",
   "metadata": {},
   "outputs": [
    {
     "name": "stdout",
     "output_type": "stream",
     "text": [
      "[(5649,)]\n"
     ]
    }
   ],
   "source": [
    "print(results)"
   ]
  },
  {
   "cell_type": "code",
   "execution_count": null,
   "id": "86714079-353d-4540-8503-71a775c01f82",
   "metadata": {},
   "outputs": [],
   "source": []
  },
  {
   "cell_type": "code",
   "execution_count": 8,
   "id": "1bf167ab-3264-41dd-bc10-747d288c485e",
   "metadata": {},
   "outputs": [
    {
     "name": "stdout",
     "output_type": "stream",
     "text": [
      "non_motorists\n"
     ]
    }
   ],
   "source": [
    "mycursor.execute(\"SHOW TABLES\")\n",
    "# Fetch all table names\n",
    "tables = mycursor.fetchall()\n",
    "\n",
    "# Print table names\n",
    "for table in tables:\n",
    "    print(table[0])"
   ]
  },
  {
   "cell_type": "code",
   "execution_count": null,
   "id": "11d4f713-b486-4c28-9111-b035a88ce26d",
   "metadata": {},
   "outputs": [],
   "source": []
  },
  {
   "cell_type": "code",
   "execution_count": 9,
   "id": "1358afcd-480f-467a-b351-152e2c8d765c",
   "metadata": {},
   "outputs": [
    {
     "name": "stdout",
     "output_type": "stream",
     "text": [
      "Column Names:\n",
      "Report Number\n",
      "Local Case Number\n",
      "Agency Name\n",
      "ACRS Report Type\n",
      "Crash Date/Time\n",
      "Route Type\n",
      "Road Name\n",
      "Cross-Street Type\n",
      "Cross-Street Name\n",
      "Off-Road Description\n",
      "Municipality\n",
      "Related Non-Motorist\n",
      "Collision Type\n",
      "Weather\n",
      "Surface Condition\n",
      "Light\n",
      "Traffic Control\n",
      "Driver Substance Abuse\n",
      "Non-Motorist Substance Abuse\n",
      "Person ID\n",
      "Pedestrian Type\n",
      "Pedestrian Movement\n",
      "Pedestrian Actions\n",
      "Pedestrian Location\n",
      "Pedestrian Obeyed Traffic Signal\n",
      "Pedestrian Visibility\n",
      "At Fault\n",
      "Injury Severity\n",
      "Safety Equipment\n",
      "Latitude\n",
      "Longitude\n",
      "Location\n"
     ]
    },
    {
     "data": {
      "text/plain": [
       "[('MCP2563001L',\n",
       "  230017107,\n",
       "  'Montgomery County Police',\n",
       "  'Injury Crash',\n",
       "  '10/04/2023 04:21:00 pm',\n",
       "  'Maryland (State)',\n",
       "  'MUNCASTER MILL RD',\n",
       "  'Unknown',\n",
       "  'STRUC #15015 ROCK CREEK',\n",
       "  '',\n",
       "  'N/A',\n",
       "  'PEDESTRIAN',\n",
       "  'SINGLE VEHICLE',\n",
       "  'CLEAR',\n",
       "  'DRY',\n",
       "  'DAYLIGHT',\n",
       "  'WARNING SIGN',\n",
       "  'NONE DETECTED',\n",
       "  'NONE DETECTED',\n",
       "  '2D1655C2-78EB-4552-899C-4C57B12B59E9',\n",
       "  'PEDESTRIAN',\n",
       "  'Cross/Enter not at Intersection',\n",
       "  'FAILURE TO YIELD RIGHT OF WAY',\n",
       "  'ON ROADWAY AT CROSSWALK',\n",
       "  'NO PED. SIGNAL',\n",
       "  'DARK CLOTHING',\n",
       "  'Yes',\n",
       "  'SUSPECTED SERIOUS INJURY',\n",
       "  'NONE',\n",
       "  39.13764511,\n",
       "  -77.12946041,\n",
       "  '(39.13764511, -77.12946041)')]"
      ]
     },
     "execution_count": 9,
     "metadata": {},
     "output_type": "execute_result"
    }
   ],
   "source": [
    "query1 = \"SELECT * FROM non_motorists LIMIT 1\"  # Fetching only one row to get column headers\n",
    "mycursor.execute(query1)\n",
    "\n",
    "# Fetch column names (column headers)\n",
    "column_names = [desc[0] for desc in mycursor.description]\n",
    "\n",
    "# Print column names\n",
    "print(\"Column Names:\")\n",
    "for column_name in column_names:\n",
    "    print(column_name)\n",
    "\n",
    "mycursor.fetchall()"
   ]
  },
  {
   "cell_type": "code",
   "execution_count": 10,
   "id": "25734b26-f57e-4ccc-93a5-af539d4f09b6",
   "metadata": {
    "scrolled": true
   },
   "outputs": [
    {
     "name": "stdout",
     "output_type": "stream",
     "text": [
      "No. of records in 'non_motorists' table: 5649\n"
     ]
    },
    {
     "data": {
      "text/plain": [
       "[]"
      ]
     },
     "execution_count": 10,
     "metadata": {},
     "output_type": "execute_result"
    }
   ],
   "source": [
    "queryal=\"SELECT count(*) FROM non_motorists\"\n",
    "mycursor.execute(queryal)\n",
    "\n",
    "resal=mycursor.fetchone()\n",
    "print(\"No. of records in 'non_motorists' table:\",resal[0])\n",
    "\n",
    "mycursor.fetchall()"
   ]
  },
  {
   "cell_type": "code",
   "execution_count": 13,
   "id": "9d24f227-f988-4691-9192-a0736047d382",
   "metadata": {},
   "outputs": [],
   "source": [
    "create_query=\"CREATE TABLE `non_motorists_1` (`Report_Number` VARCHAR(255),`Local_Case_Number` int DEFAULT NULL, `Agency_Name` VARCHAR(255),`ACRS_Report_Type` VARCHAR(255),`Crash_Date_Time` VARCHAR(255),`Route_Type` VARCHAR(255),`Road_Name` VARCHAR(255),`Cross_Street_Type` VARCHAR(255),`Cross_Street_Name` VARCHAR(255),`Off_Road_Description` VARCHAR(255),`Municipality` VARCHAR(255),`Related_Non_Motorist` VARCHAR(255),`Collision_Type` VARCHAR(255),`Weather` VARCHAR(255),`Surface_Condition` VARCHAR(255),`Light` VARCHAR(255),`Traffic_Control` VARCHAR(255),`Driver_Substance_Abuse` VARCHAR(255),`Non_Motorist_Substance_Abuse` VARCHAR(255),`Person_ID` VARCHAR(255), `Pedestrian Type` VARCHAR(255),`Pedestrian_Movement` VARCHAR(255),`Pedestrian_Actions` VARCHAR(255),`Pedestrian_Location` VARCHAR(255),`Pedestrian_Obeyed_Traffic_Signal` VARCHAR(255),`Pedestrian_Visibility` VARCHAR(255),`At_Fault` VARCHAR(255),`Injury_Severity` VARCHAR(255),`Safety_Equipment` VARCHAR(255),`Latitude` double DEFAULT NULL,`Longitude` double DEFAULT NULL,`Location` VARCHAR(255))\""
   ]
  },
  {
   "cell_type": "code",
   "execution_count": 14,
   "id": "46dc24fa-caae-4eff-8315-90e138b90425",
   "metadata": {},
   "outputs": [],
   "source": [
    "mycursor.execute(create_query)"
   ]
  },
  {
   "cell_type": "code",
   "execution_count": 15,
   "id": "1ddf463c-f85b-40c3-a32c-30d74b544bc1",
   "metadata": {},
   "outputs": [
    {
     "name": "stdout",
     "output_type": "stream",
     "text": [
      "non_motorists\n",
      "non_motorists_1\n"
     ]
    }
   ],
   "source": [
    "mycursor.execute(\"SHOW TABLES\")\n",
    "# Fetch all table names\n",
    "tables = mycursor.fetchall()\n",
    "\n",
    "# Print table names\n",
    "for table in tables:\n",
    "    print(table[0])"
   ]
  },
  {
   "cell_type": "code",
   "execution_count": 16,
   "id": "49738dcd-c2dc-4d38-b94f-d9da6d549734",
   "metadata": {},
   "outputs": [
    {
     "ename": "SyntaxError",
     "evalue": "invalid syntax. Perhaps you forgot a comma? (2636458825.py, line 6)",
     "output_type": "error",
     "traceback": [
      "\u001b[1;36m  Cell \u001b[1;32mIn[16], line 6\u001b[1;36m\u001b[0m\n\u001b[1;33m    ''',row.Report Number,\u001b[0m\n\u001b[1;37m        ^\u001b[0m\n\u001b[1;31mSyntaxError\u001b[0m\u001b[1;31m:\u001b[0m invalid syntax. Perhaps you forgot a comma?\n"
     ]
    }
   ],
   "source": [
    "for row in df.itertuples():\n",
    "    mycursor.execute('''INSERT INTO drivers (Report_Number,Local_Case_Number,Agency_Name,ACRS_Report_Type,Crash_Date_Time,Route_Type,\n",
    "        Road_Name,Cross_Street_Type,Cross_Street_Name,Off_Road_Description,Municipality,Related_Non_Motorist,Collision_Type,Weather,\n",
    "        Surface_Condition,Light,Traffic_Control,Driver_Substance_Abuse,Non_Motorist_Substance_Abuse,Person_ID,Pedestrian_Type,Pedestrian_Movement,Pedestrian_Actions,Pedestrian_Location,Pedestrian_Obeyed_Traffic_Signal,Pedestrian_Visibility,At_Fault,Injury_Severity,Safety_Equipment,Latitude,Longitude,Location)  \n",
    "        VALUES (?,?,?,?,?,?,?,?,?,?,?,?,?,?,?,?,?,?,?,?,?,?,?,?,?,?,?,?,?,?,?,?,?,?,?,?,?,?,?,?,?,?,?,?)\n",
    "        ''',row.Report Number,\n",
    "        row.Local Case Number,\n",
    "        row.Agency Name,\n",
    "        row.ACRS Report Type,\n",
    "        row.Crash Date Time,\n",
    "        row.Route Type,\n",
    "        row.Road_Name,\n",
    "        row.Cross_Street_Type,\n",
    "        row.Cross_Street_Name,\n",
    "        row.Off_Road_Description,\n",
    "        row.Municipality,\n",
    "        row.Related_Non_Motorist,\n",
    "        row.Collision_Type,\n",
    "        row.Weather,\n",
    "        row.Surface_Condition,\n",
    "        row.Light,\n",
    "        row.Traffic_Control,\n",
    "        row.Driver_Substance_Abuse,\n",
    "        row.Non_Motorist_Substance_Abuse,\n",
    "        row.Person_ID,\n",
    "        row.Pedestrian_Type,\n",
    "        row.Pedestrian_Movement,\n",
    "        row.Pedestrian_Actions,\n",
    "        row.Pedestrian_Location,\n",
    "        row.Pedestrian_Obeyed_Traffic_Signal,\n",
    "        row.Pedestrian_Visibility,\n",
    "        row.At_Fault,\n",
    "        row.Injury_Severity,\n",
    "        row.Safety_Equipment,\n",
    "        row.Latitude,\n",
    "        row.Longitude,\n",
    "        row.Location\n",
    "                  )\n",
    "mycursor.execute(query, values)"
   ]
  },
  {
   "cell_type": "code",
   "execution_count": 17,
   "id": "9b8e8120-09ef-40ab-9c95-19db86112163",
   "metadata": {},
   "outputs": [
    {
     "ename": "FileNotFoundError",
     "evalue": "[Errno 2] No such file or directory: 'Non-Motorists_Data_20240404.csv'",
     "output_type": "error",
     "traceback": [
      "\u001b[1;31m---------------------------------------------------------------------------\u001b[0m",
      "\u001b[1;31mFileNotFoundError\u001b[0m                         Traceback (most recent call last)",
      "Cell \u001b[1;32mIn[17], line 4\u001b[0m\n\u001b[0;32m      1\u001b[0m csv_file \u001b[38;5;241m=\u001b[39m \u001b[38;5;124m'\u001b[39m\u001b[38;5;124mNon-Motorists_Data_20240404.csv\u001b[39m\u001b[38;5;124m'\u001b[39m\n\u001b[0;32m      3\u001b[0m \u001b[38;5;66;03m# Open the CSV file and read its contents\u001b[39;00m\n\u001b[1;32m----> 4\u001b[0m \u001b[38;5;28;01mwith\u001b[39;00m \u001b[38;5;28mopen\u001b[39m(csv_file, \u001b[38;5;124m'\u001b[39m\u001b[38;5;124mr\u001b[39m\u001b[38;5;124m'\u001b[39m) \u001b[38;5;28;01mas\u001b[39;00m file:\n\u001b[0;32m      5\u001b[0m     reader \u001b[38;5;241m=\u001b[39m csv\u001b[38;5;241m.\u001b[39mreader(file)\n\u001b[0;32m      6\u001b[0m     \u001b[38;5;28mnext\u001b[39m(reader)  \u001b[38;5;66;03m# Skip header row if it exists\u001b[39;00m\n",
      "File \u001b[1;32m~\\anaconda3\\envs\\Python\\Lib\\site-packages\\IPython\\core\\interactiveshell.py:310\u001b[0m, in \u001b[0;36m_modified_open\u001b[1;34m(file, *args, **kwargs)\u001b[0m\n\u001b[0;32m    303\u001b[0m \u001b[38;5;28;01mif\u001b[39;00m file \u001b[38;5;129;01min\u001b[39;00m {\u001b[38;5;241m0\u001b[39m, \u001b[38;5;241m1\u001b[39m, \u001b[38;5;241m2\u001b[39m}:\n\u001b[0;32m    304\u001b[0m     \u001b[38;5;28;01mraise\u001b[39;00m \u001b[38;5;167;01mValueError\u001b[39;00m(\n\u001b[0;32m    305\u001b[0m         \u001b[38;5;124mf\u001b[39m\u001b[38;5;124m\"\u001b[39m\u001b[38;5;124mIPython won\u001b[39m\u001b[38;5;124m'\u001b[39m\u001b[38;5;124mt let you open fd=\u001b[39m\u001b[38;5;132;01m{\u001b[39;00mfile\u001b[38;5;132;01m}\u001b[39;00m\u001b[38;5;124m by default \u001b[39m\u001b[38;5;124m\"\u001b[39m\n\u001b[0;32m    306\u001b[0m         \u001b[38;5;124m\"\u001b[39m\u001b[38;5;124mas it is likely to crash IPython. If you know what you are doing, \u001b[39m\u001b[38;5;124m\"\u001b[39m\n\u001b[0;32m    307\u001b[0m         \u001b[38;5;124m\"\u001b[39m\u001b[38;5;124myou can use builtins\u001b[39m\u001b[38;5;124m'\u001b[39m\u001b[38;5;124m open.\u001b[39m\u001b[38;5;124m\"\u001b[39m\n\u001b[0;32m    308\u001b[0m     )\n\u001b[1;32m--> 310\u001b[0m \u001b[38;5;28;01mreturn\u001b[39;00m io_open(file, \u001b[38;5;241m*\u001b[39margs, \u001b[38;5;241m*\u001b[39m\u001b[38;5;241m*\u001b[39mkwargs)\n",
      "\u001b[1;31mFileNotFoundError\u001b[0m: [Errno 2] No such file or directory: 'Non-Motorists_Data_20240404.csv'"
     ]
    }
   ],
   "source": [
    "csv_file = 'Non-Motorists_Data_20240404.csv'\n",
    "\n",
    "# Open the CSV file and read its contents\n",
    "with open(csv_file, 'r') as file:\n",
    "    reader = csv.reader(file)\n",
    "    next(reader)  # Skip header row if it exists\n",
    "    for row in reader:\n",
    "        # Insert each row into the database\n",
    "        query = \"INSERT INTO non_motorists_1 (Report_Number,Local_Case_Number,Agency_Name,ACRS_Report_Type,Crash_Date_Time,Route_Type,Road_Name,Cross_Street_Type,Cross_Street_Name,Off_Road_Description,Municipality,Related_Non_Motorist,Collision_Type,Weather,Surface_Condition,Light,Traffic_Control,Driver_Substance_Abuse,Non_Motorist_Substance_Abuse,Person_ID,Pedestrian_Type,Pedestrian_Movement,Pedestrian_Actions,Pedestrian_Location,Pedestrian_Obeyed_Traffic_Signal,Pedestrian_Visibility,At_Fault,Injury_Severity,Safety_Equipment,Latitude,Longitude,Location) VALUES (%s, %s, %s,%s, %s, %s,%s, %s, %s,%s,%s, %s, %s,%s, %s, %s,%s, %s, %s,%s,%s, %s, %s,%s, %s, %s,%s, %s, %s,%s,%s, %s, %s,%s, %s, %s,%s, %s, %s,%s,%s, %s, %s,%s,%s)\"\n",
    "        values = tuple(row)  # Assuming the CSV structure matches the table structure\n",
    "        mycursor.execute(query, values)"
   ]
  },
  {
   "cell_type": "code",
   "execution_count": null,
   "id": "ea49990c-6246-42b5-8276-44ba7f4442ea",
   "metadata": {},
   "outputs": [],
   "source": []
  },
  {
   "cell_type": "code",
   "execution_count": null,
   "id": "c997f9af-3de6-4909-a74d-a92eccaf8db6",
   "metadata": {},
   "outputs": [],
   "source": []
  },
  {
   "cell_type": "code",
   "execution_count": null,
   "id": "1439ac37-ce1c-4e3c-91e0-bac99f01811e",
   "metadata": {},
   "outputs": [],
   "source": []
  },
  {
   "cell_type": "code",
   "execution_count": null,
   "id": "67436d7b-b36a-40e6-9d09-c437d8126340",
   "metadata": {},
   "outputs": [],
   "source": [
    "#query = \"ALTER TABLE drivers DROP COLUMN `Off-Road Description`\"\n",
    "#mycursor.execute(query)\n",
    "\n",
    "# Commit the transaction\n",
    "#connection.commit()\n",
    "#delete_query = \"DELETE FROM drivers WHERE `Off-Road Description` = %s\"\n",
    "#value_to_delete = \"value_to_delete\"  # Replace 'value_to_delete' with the actual value you want to delete\n",
    "# mycursor.execute(delete_query, (value_to_delete,))\n",
    "\n",
    "# Commit the transaction\n",
    "#connection.commit()\n",
    "\n",
    "# Print the number of rows deleted\n",
    "#print(f\"{mycursor.rowcount} row(s) deleted.\")"
   ]
  },
  {
   "cell_type": "code",
   "execution_count": null,
   "id": "2889c0e8-9e83-4b95-a07c-863560bff424",
   "metadata": {},
   "outputs": [],
   "source": []
  },
  {
   "cell_type": "code",
   "execution_count": null,
   "id": "c547d1a3-0f9a-4db9-92b4-5e51b8957300",
   "metadata": {},
   "outputs": [],
   "source": []
  }
 ],
 "metadata": {
  "kernelspec": {
   "display_name": "Python 3 (ipykernel)",
   "language": "python",
   "name": "python3"
  },
  "language_info": {
   "codemirror_mode": {
    "name": "ipython",
    "version": 3
   },
   "file_extension": ".py",
   "mimetype": "text/x-python",
   "name": "python",
   "nbconvert_exporter": "python",
   "pygments_lexer": "ipython3",
   "version": "3.11.8"
  }
 },
 "nbformat": 4,
 "nbformat_minor": 5
}
