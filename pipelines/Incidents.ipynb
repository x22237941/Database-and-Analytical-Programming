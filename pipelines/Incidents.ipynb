{
 "cells": [
  {
   "cell_type": "code",
   "execution_count": 1,
   "id": "100f2de7-7caa-4815-85f2-5ada985caf92",
   "metadata": {},
   "outputs": [
    {
     "ename": "ModuleNotFoundError",
     "evalue": "No module named 'dbconnections'",
     "output_type": "error",
     "traceback": [
      "\u001b[1;31m---------------------------------------------------------------------------\u001b[0m",
      "\u001b[1;31mModuleNotFoundError\u001b[0m                       Traceback (most recent call last)",
      "Cell \u001b[1;32mIn[1], line 1\u001b[0m\n\u001b[1;32m----> 1\u001b[0m \u001b[38;5;28;01mfrom\u001b[39;00m \u001b[38;5;21;01mdbconnections\u001b[39;00m \u001b[38;5;28;01mimport\u001b[39;00m mysqlcon \u001b[38;5;28;01mas\u001b[39;00m sql\n\u001b[0;32m      2\u001b[0m \u001b[38;5;28;01mfrom\u001b[39;00m \u001b[38;5;21;01mdbconnections\u001b[39;00m \u001b[38;5;28;01mimport\u001b[39;00m mongodbcon \u001b[38;5;28;01mas\u001b[39;00m mongo\n\u001b[0;32m      3\u001b[0m \u001b[38;5;28;01mimport\u001b[39;00m \u001b[38;5;21;01mnumpy\u001b[39;00m \u001b[38;5;28;01mas\u001b[39;00m \u001b[38;5;21;01mnp\u001b[39;00m\n",
      "\u001b[1;31mModuleNotFoundError\u001b[0m: No module named 'dbconnections'"
     ]
    }
   ],
   "source": [
    "from dbconnections import mysqlcon as sql\n",
    "from dbconnections import mongodbcon as mongo\n",
    "import numpy as np\n",
    "import pandas as pd\n",
    "import matplotlib as mp\n",
    "import seaborn as sns"
   ]
  },
  {
   "cell_type": "markdown",
   "id": "8bb78824-3d12-4275-a2b0-6b38568af158",
   "metadata": {},
   "source": [
    "### MySQL database connection parameters"
   ]
  },
  {
   "cell_type": "code",
   "execution_count": null,
   "id": "fdbcfcca-4ac5-4491-af7a-91d504b1b5f1",
   "metadata": {},
   "outputs": [],
   "source": [
    "sql_host=\"localhost\",\n",
    "sql_user=\"root\",\n",
    "sql_password=\"sana123\",\n",
    "sql_database=\"montgomery\""
   ]
  },
  {
   "cell_type": "markdown",
   "id": "1d82dad6-d851-4fb1-af24-4d3eb74acec0",
   "metadata": {},
   "source": [
    "### MongoDB database connection parameters"
   ]
  },
  {
   "cell_type": "code",
   "execution_count": null,
   "id": "3a0a5fb9-0e8e-40b4-b55a-ee895224cf41",
   "metadata": {},
   "outputs": [],
   "source": [
    "mongo_username=\"x22237941\",\n",
    "mongo_password=\"Sana123\",\n",
    "mongo_cluster_name=\"dap0.u0itlkg.mongodb.net\""
   ]
  },
  {
   "cell_type": "code",
   "execution_count": null,
   "id": "ad118094-173b-4554-8579-04f5a824be0a",
   "metadata": {},
   "outputs": [],
   "source": []
  }
 ],
 "metadata": {
  "kernelspec": {
   "display_name": "Python 3 (ipykernel)",
   "language": "python",
   "name": "python3"
  },
  "language_info": {
   "codemirror_mode": {
    "name": "ipython",
    "version": 3
   },
   "file_extension": ".py",
   "mimetype": "text/x-python",
   "name": "python",
   "nbconvert_exporter": "python",
   "pygments_lexer": "ipython3",
   "version": "3.12.2"
  }
 },
 "nbformat": 4,
 "nbformat_minor": 5
}
