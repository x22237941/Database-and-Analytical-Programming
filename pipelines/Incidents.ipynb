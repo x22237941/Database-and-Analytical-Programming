{
 "cells": [
  {
   "cell_type": "code",
   "execution_count": 1,
   "id": "100f2de7-7caa-4815-85f2-5ada985caf92",
   "metadata": {},
   "outputs": [],
   "source": [
    "from dbconnections import mysqlcon as sql\n",
    "from dbconnections import mongodbcon as mongo\n",
    "import numpy as np\n",
    "import pandas as pd\n",
    "import matplotlib as mp\n",
    "import seaborn as sns"
   ]
  },
  {
   "cell_type": "markdown",
   "id": "8bb78824-3d12-4275-a2b0-6b38568af158",
   "metadata": {},
   "source": [
    "### MySQL database connection parameters"
   ]
  },
  {
   "cell_type": "code",
   "execution_count": 4,
   "id": "fdbcfcca-4ac5-4491-af7a-91d504b1b5f1",
   "metadata": {},
   "outputs": [],
   "source": [
    "sql_host=\"localhost\",\n",
    "sql_user=\"root\",\n",
    "sql_password=\"sana123\",\n",
    "sql_database=\"montgomery\""
   ]
  },
  {
   "cell_type": "markdown",
   "id": "1d82dad6-d851-4fb1-af24-4d3eb74acec0",
   "metadata": {},
   "source": [
    "### MongoDB database connection parameters"
   ]
  },
  {
   "cell_type": "code",
   "execution_count": null,
   "id": "3a0a5fb9-0e8e-40b4-b55a-ee895224cf41",
   "metadata": {},
   "outputs": [],
   "source": []
  }
 ],
 "metadata": {
  "kernelspec": {
   "display_name": "Python 3 (ipykernel)",
   "language": "python",
   "name": "python3"
  },
  "language_info": {
   "codemirror_mode": {
    "name": "ipython",
    "version": 3
   },
   "file_extension": ".py",
   "mimetype": "text/x-python",
   "name": "python",
   "nbconvert_exporter": "python",
   "pygments_lexer": "ipython3",
   "version": "3.12.2"
  }
 },
 "nbformat": 4,
 "nbformat_minor": 5
}
