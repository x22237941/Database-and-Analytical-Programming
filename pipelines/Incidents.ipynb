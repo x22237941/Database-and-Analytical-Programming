{
 "cells": [
  {
   "cell_type": "code",
   "execution_count": 2,
   "id": "100f2de7-7caa-4815-85f2-5ada985caf92",
   "metadata": {},
   "outputs": [],
   "source": [
    "import numpy as np\n",
    "import pandas as pd\n",
    "import matplotlib as mp\n",
    "import seaborn as sns"
   ]
  },
  {
   "cell_type": "markdown",
   "id": "7ef3ad34-8679-4952-9d12-c96947d8674c",
   "metadata": {},
   "source": [
    "### File to feed"
   ]
  },
  {
   "cell_type": "code",
   "execution_count": 23,
   "id": "b489cf28-b804-42ca-8d91-ffda48314e51",
   "metadata": {},
   "outputs": [],
   "source": [
    "data=\"../Database-and-Analytical-Programming/dataset\""
   ]
  },
  {
   "cell_type": "markdown",
   "id": "ab07fea1-c7f8-472e-9c9e-00fc90947c2f",
   "metadata": {},
   "source": [
    "### Importing user-defined connection packages"
   ]
  },
  {
   "cell_type": "code",
   "execution_count": 6,
   "id": "e4f19c06-4df1-47b4-a4ed-c76c3e22fb9e",
   "metadata": {},
   "outputs": [],
   "source": [
    "import sys\n",
    "sys.path.append('../Database-and-Analytical-Programming')\n",
    "from dbconnections import mysqlcon as sql\n",
    "from dbconnections import mongodbcon as mongo"
   ]
  },
  {
   "cell_type": "markdown",
   "id": "8bb78824-3d12-4275-a2b0-6b38568af158",
   "metadata": {},
   "source": [
    "### MySQL database connection parameters"
   ]
  },
  {
   "cell_type": "code",
   "execution_count": 18,
   "id": "ad118094-173b-4554-8579-04f5a824be0a",
   "metadata": {},
   "outputs": [],
   "source": [
    "import mysql.connector\n",
    "def connect_to_mysql():\n",
    "    try:\n",
    "        # MySQL database connection parameters\n",
    "        host = 'localhost'\n",
    "        user = 'root'\n",
    "        password = 'sana123'\n",
    "        database = 'montgomery'\n",
    "\n",
    "        # Establish connection\n",
    "        connection = mysql.connector.connect(\n",
    "            host=host,\n",
    "            user=user,\n",
    "            password=password,\n",
    "            database=database\n",
    "        )\n",
    "\n",
    "        if connection.is_connected():\n",
    "            print(\"Connected to MySQL database\")\n",
    "            return connection\n",
    "    except mysql.connector.Error as e:\n",
    "        print(\"Error connecting to MySQL database:\", e)\n"
   ]
  },
  {
   "cell_type": "code",
   "execution_count": 7,
   "id": "fdbcfcca-4ac5-4491-af7a-91d504b1b5f1",
   "metadata": {},
   "outputs": [],
   "source": [
    "sql_host=\"localhost\",\n",
    "sql_user=\"root\",\n",
    "sql_password=\"sana123\",\n",
    "sql_database=\"montgomery\""
   ]
  },
  {
   "cell_type": "code",
   "execution_count": 19,
   "id": "cdbd90b8-952e-48d6-9e5e-182e3dabe165",
   "metadata": {},
   "outputs": [
    {
     "name": "stdout",
     "output_type": "stream",
     "text": [
      "Connected to MySQL database\n"
     ]
    },
    {
     "data": {
      "text/plain": [
       "<mysql.connector.connection_cext.CMySQLConnection at 0x1ae7c4552b0>"
      ]
     },
     "execution_count": 19,
     "metadata": {},
     "output_type": "execute_result"
    }
   ],
   "source": [
    "connection = connect_to_mysql()\n",
    "connection"
   ]
  },
  {
   "cell_type": "markdown",
   "id": "deff499a-ffe2-48cb-949e-5234f6da95af",
   "metadata": {},
   "source": [
    "### Create a cursor object"
   ]
  },
  {
   "cell_type": "code",
   "execution_count": 24,
   "id": "d183d902-7a68-45c2-b409-4d98c2087037",
   "metadata": {},
   "outputs": [],
   "source": [
    "cursor = connection.cursor()"
   ]
  },
  {
   "cell_type": "markdown",
   "id": "16255ca9-ede9-4033-b44f-144cf0ac68f6",
   "metadata": {},
   "source": [
    "### Queries"
   ]
  },
  {
   "cell_type": "code",
   "execution_count": 27,
   "id": "9c0f063b-7457-47f8-8cdd-5ce5e591f611",
   "metadata": {},
   "outputs": [],
   "source": [
    "query = \"SELECT count(*) FROM incidents\"\n",
    "cursor.execute(query)\n",
    "results = cursor.fetchall()"
   ]
  },
  {
   "cell_type": "code",
   "execution_count": 28,
   "id": "ef102521-1974-402c-82a5-0c5336ce08f1",
   "metadata": {},
   "outputs": [
    {
     "name": "stdout",
     "output_type": "stream",
     "text": [
      "[(97431,)]\n"
     ]
    }
   ],
   "source": [
    "print(results) #97459-97431"
   ]
  },
  {
   "cell_type": "markdown",
   "id": "1d82dad6-d851-4fb1-af24-4d3eb74acec0",
   "metadata": {},
   "source": [
    "### MongoDB database connection parameters"
   ]
  },
  {
   "cell_type": "code",
   "execution_count": 20,
   "id": "bba5b597-e5f6-4058-846c-216481bb78bf",
   "metadata": {},
   "outputs": [],
   "source": [
    "from pymongo import MongoClient\n",
    "\n",
    "def connect_to_mongodb(username, password, cluster_name):\n",
    "    try:\n",
    "        # Construct MongoDB URI dynamically\n",
    "        uri = f\"mongodb+srv://{username}:{password}@{cluster_name}.mongodb.net/\"\n",
    "\n",
    "        # Create a new client and connect to the server\n",
    "        client = MongoClient(uri, tls=True)\n",
    "\n",
    "        # Send a ping to confirm a successful connection\n",
    "        client.admin.command('ping')\n",
    "\n",
    "        print(\"Pinged your deployment. You successfully connected to MongoDB!\")\n",
    "\n",
    "        return client\n",
    "    \n",
    "    except Exception as e:\n",
    "        print(e)\n",
    "        return None"
   ]
  },
  {
   "cell_type": "code",
   "execution_count": 31,
   "id": "3a0a5fb9-0e8e-40b4-b55a-ee895224cf41",
   "metadata": {},
   "outputs": [
    {
     "name": "stdout",
     "output_type": "stream",
     "text": [
      "ac-fe9vnxr-shard-00-02.u0itlkg.mongodb.net:27017: timed out (configured timeouts: socketTimeoutMS: 20000.0ms, connectTimeoutMS: 20000.0ms),ac-fe9vnxr-shard-00-01.u0itlkg.mongodb.net:27017: timed out (configured timeouts: socketTimeoutMS: 20000.0ms, connectTimeoutMS: 20000.0ms),ac-fe9vnxr-shard-00-00.u0itlkg.mongodb.net:27017: timed out (configured timeouts: socketTimeoutMS: 20000.0ms, connectTimeoutMS: 20000.0ms), Timeout: 30s, Topology Description: <TopologyDescription id: 661d46c85b937556b460c117, topology_type: ReplicaSetNoPrimary, servers: [<ServerDescription ('ac-fe9vnxr-shard-00-00.u0itlkg.mongodb.net', 27017) server_type: Unknown, rtt: None, error=NetworkTimeout('ac-fe9vnxr-shard-00-00.u0itlkg.mongodb.net:27017: timed out (configured timeouts: socketTimeoutMS: 20000.0ms, connectTimeoutMS: 20000.0ms)')>, <ServerDescription ('ac-fe9vnxr-shard-00-01.u0itlkg.mongodb.net', 27017) server_type: Unknown, rtt: None, error=NetworkTimeout('ac-fe9vnxr-shard-00-01.u0itlkg.mongodb.net:27017: timed out (configured timeouts: socketTimeoutMS: 20000.0ms, connectTimeoutMS: 20000.0ms)')>, <ServerDescription ('ac-fe9vnxr-shard-00-02.u0itlkg.mongodb.net', 27017) server_type: Unknown, rtt: None, error=NetworkTimeout('ac-fe9vnxr-shard-00-02.u0itlkg.mongodb.net:27017: timed out (configured timeouts: socketTimeoutMS: 20000.0ms, connectTimeoutMS: 20000.0ms)')>]>\n"
     ]
    }
   ],
   "source": [
    "mongo_username=\"x22237941\",\n",
    "mongo_password=\"Sana123\",\n",
    "mongo_cluster_name=\"dap0.u0itlkg\"\n",
    "mongoconn=connect_to_mongodb(mongo_username, mongo_password, mongo_cluster_name)\n",
    "mongoconn"
   ]
  },
  {
   "cell_type": "code",
   "execution_count": null,
   "id": "f434f819-8e40-4f16-a1e6-aef8ee8a703b",
   "metadata": {},
   "outputs": [],
   "source": []
  }
 ],
 "metadata": {
  "kernelspec": {
   "display_name": "Python 3 (ipykernel)",
   "language": "python",
   "name": "python3"
  },
  "language_info": {
   "codemirror_mode": {
    "name": "ipython",
    "version": 3
   },
   "file_extension": ".py",
   "mimetype": "text/x-python",
   "name": "python",
   "nbconvert_exporter": "python",
   "pygments_lexer": "ipython3",
   "version": "3.11.8"
  }
 },
 "nbformat": 4,
 "nbformat_minor": 5
}
