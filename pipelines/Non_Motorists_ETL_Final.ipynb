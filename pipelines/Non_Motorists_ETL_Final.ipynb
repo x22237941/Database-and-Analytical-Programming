{
 "cells": [
  {
   "cell_type": "markdown",
   "id": "8cccfb1f-b851-44c8-96c4-f80e270f9c87",
   "metadata": {},
   "source": [
    "# Import Required Librariers:"
   ]
  },
  {
   "cell_type": "code",
   "execution_count": 1,
   "id": "48da1c95-8efb-4914-a743-9a0137411324",
   "metadata": {},
   "outputs": [],
   "source": [
    "import mysql.connector as mysql  \n",
    "import os\n",
    "import csv\n",
    "import matplotlib as mp\n",
    "import numpy as np\n",
    "import pandas as pd\n",
    "from sqlalchemy import create_engine\n",
    "import numpy as np\n",
    "import matplotlib.pyplot as plt\n",
    "import seaborn as sns\n",
    "%matplotlib inline"
   ]
  },
  {
   "cell_type": "markdown",
   "id": "99d9b377-cf4d-4e81-9bc1-086045199e16",
   "metadata": {},
   "source": [
    "# Store Data into a variable using the built in CSV.Reader Function:"
   ]
  },
  {
   "cell_type": "code",
   "execution_count": 2,
   "id": "0e2c9aa7-9a83-4e75-81fe-969844094c65",
   "metadata": {},
   "outputs": [],
   "source": [
    "data_set=pd.read_csv(\"Non-Motorists_Data_20240404.csv\")"
   ]
  },
  {
   "cell_type": "markdown",
   "id": "2f87c525-47d2-49d2-a458-f71b65a373d3",
   "metadata": {},
   "source": [
    "# Establish a Connection to MySQL"
   ]
  },
  {
   "cell_type": "code",
   "execution_count": 3,
   "id": "5e05fb64-77d6-4ea5-8edd-db94fa4bf0bc",
   "metadata": {},
   "outputs": [
    {
     "name": "stdout",
     "output_type": "stream",
     "text": [
      "Connected to MySQL database\n"
     ]
    }
   ],
   "source": [
    "# MySQL database connection parameters\n",
    "host = 'localhost'\n",
    "user = 'root'\n",
    "password = 'waleed123'\n",
    "database = 'montgomery'\n",
    "\n",
    "# Establish connection\n",
    "connection = mysql.connect(\n",
    "            host=host,\n",
    "            user=user,\n",
    "            password=password,\n",
    "            database=database\n",
    ")\n",
    "\n",
    "if connection.is_connected():\n",
    "    print(\"Connected to MySQL database\")"
   ]
  },
  {
   "cell_type": "code",
   "execution_count": 20,
   "id": "a6245725-c486-49df-940c-5db3c04d2c94",
   "metadata": {},
   "outputs": [
    {
     "data": {
      "text/plain": [
       "<mysql.connector.connection_cext.CMySQLConnection at 0x20042427e50>"
      ]
     },
     "execution_count": 20,
     "metadata": {},
     "output_type": "execute_result"
    }
   ],
   "source": [
    "connection"
   ]
  },
  {
   "cell_type": "markdown",
   "id": "404f0a25-abe1-418a-8ecb-067dd7e46645",
   "metadata": {},
   "source": [
    "# Establishing a cursor"
   ]
  },
  {
   "cell_type": "code",
   "execution_count": 21,
   "id": "4d922a05-c157-46e6-968d-2addec542c57",
   "metadata": {},
   "outputs": [],
   "source": [
    "my_cursor=connection.cursor()"
   ]
  },
  {
   "cell_type": "markdown",
   "id": "451be0d8-d79d-4d36-90de-55eeb5761350",
   "metadata": {},
   "source": [
    "# DDL/DML Queries"
   ]
  },
  {
   "cell_type": "code",
   "execution_count": 13,
   "id": "40a014cb-82d9-4fa9-be6a-6a5f4a0753f3",
   "metadata": {},
   "outputs": [],
   "source": [
    "table_create='''CREATE TABLE non_motorists_final_table (\n",
    "                report_number TEXT,\n",
    "                local_case_number TEXT,\n",
    "                agency_name TEXT,\n",
    "                acrs_report_type TEXT,\n",
    "                crash_date_time TEXT,\n",
    "                route_type TEXT,\n",
    "                road_Name TEXT,\n",
    "                cross_street_type TEXT,\n",
    "                cross_street_name TEXT,\n",
    "                off_road_description TEXT,\n",
    "                municipality TEXT,\n",
    "                related_non_motorist TEXT,\n",
    "                collision_type TEXT,\n",
    "                weather TEXT,\n",
    "                surface_condition TEXT,\n",
    "                light TEXT,\n",
    "                traffic_control TEXT,\n",
    "                driver_substance_abuse TEXT,\n",
    "                non_motorist_substance_abuse TEXT,\n",
    "                person_id TEXT,\n",
    "                pedestrian_type TEXT,\n",
    "                pedestrian_movement TEXT,\n",
    "                pedestrian_actions TEXT,\n",
    "                pedestrian_location TEXT,\n",
    "                pedestrian_obeyed_traffic_signal TEXT,\n",
    "                pedestrian_visibility TEXT,\n",
    "                at_fault TEXT,\n",
    "                injury_severity TEXT,\n",
    "                safety_equipment TEXT,\n",
    "                latitude TEXT,\n",
    "                longitude TEXT,\n",
    "                location TEXT\n",
    "                )'''"
   ]
  },
  {
   "cell_type": "code",
   "execution_count": 14,
   "id": "303857b3-6a51-4cae-9b38-82961a669ac1",
   "metadata": {},
   "outputs": [],
   "source": [
    "my_cursor.execute(table_create) # executing/creating a table\n",
    "connection.commit() # Commit the transaction"
   ]
  },
  {
   "cell_type": "code",
   "execution_count": 16,
   "id": "a2ffe961-4cd8-44e9-96c3-bfe66b2f737a",
   "metadata": {},
   "outputs": [
    {
     "name": "stdout",
     "output_type": "stream",
     "text": [
      "non_motorists\n",
      "non_motorists_1\n",
      "non_motorists_2\n",
      "non_motorists_3\n",
      "non_motorists_4\n",
      "non_motorists_5\n",
      "non_motorists_6\n",
      "non_motorists_final\n",
      "non_motorists_final_table\n"
     ]
    }
   ],
   "source": [
    "my_cursor.execute(\"SHOW TABLES\")\n",
    "# Fetch all table names\n",
    "tables = my_cursor.fetchall()\n",
    "\n",
    "# Print table names\n",
    "for table in tables:\n",
    "    print(table[0])"
   ]
  },
  {
   "cell_type": "code",
   "execution_count": 17,
   "id": "b59758c2-e7ca-4575-9712-2c584b1daab4",
   "metadata": {},
   "outputs": [],
   "source": [
    "data_insert='''INSERT INTO non_motorists_final_table (report_number,local_case_number,agency_name,acrs_report_type,crash_date_time,route_type, road_Name,cross_street_type,cross_street_name,off_road_description,municipality,related_non_motorist,collision_type,weather,surface_condition,light,traffic_control,driver_substance_abuse,non_motorist_substance_abuse,person_id,pedestrian_type,pedestrian_movement,pedestrian_actions,pedestrian_location,pedestrian_obeyed_traffic_signal,pedestrian_visibility,at_fault,injury_severity,safety_equipment,latitude,longitude,location) VALUES ( %s,%s,%s,%s,%s,%s,%s, %s, %s, %s, %s, %s, %s, %s, %s, %s, %s, %s, %s, %s, %s, %s, %s, %s,\n",
    "%s, %s, %s, %s, %s, %s, %s, %s)'''''"
   ]
  },
  {
   "cell_type": "code",
   "execution_count": 18,
   "id": "86714079-353d-4540-8503-71a775c01f82",
   "metadata": {},
   "outputs": [],
   "source": [
    "column_drops='''ALTER TABLE non_motorists_final_table\n",
    "DROP COLUMN Latitude,\n",
    "DROP COLUMN Longitude,\n",
    "DROP COLUMN Location'''"
   ]
  },
  {
   "cell_type": "code",
   "execution_count": 19,
   "id": "bddae5e2-caa1-4930-986b-90622bab769e",
   "metadata": {},
   "outputs": [],
   "source": [
    "select_query=\"select * from non_motorists_final_table\""
   ]
  },
  {
   "cell_type": "code",
   "execution_count": 23,
   "id": "1bf167ab-3264-41dd-bc10-747d288c485e",
   "metadata": {},
   "outputs": [],
   "source": [
    "illustrate=\"DESCRIBE non_motorists_final_table\""
   ]
  },
  {
   "cell_type": "code",
   "execution_count": 24,
   "id": "11d4f713-b486-4c28-9111-b035a88ce26d",
   "metadata": {},
   "outputs": [],
   "source": [
    "my_cursor.execute(illustrate)"
   ]
  },
  {
   "cell_type": "code",
   "execution_count": 25,
   "id": "1358afcd-480f-467a-b351-152e2c8d765c",
   "metadata": {},
   "outputs": [
    {
     "name": "stdout",
     "output_type": "stream",
     "text": [
      "report_number - text\n",
      "local_case_number - text\n",
      "agency_name - text\n",
      "acrs_report_type - text\n",
      "crash_date_time - text\n",
      "route_type - text\n",
      "road_Name - text\n",
      "cross_street_type - text\n",
      "cross_street_name - text\n",
      "off_road_description - text\n",
      "municipality - text\n",
      "related_non_motorist - text\n",
      "collision_type - text\n",
      "weather - text\n",
      "surface_condition - text\n",
      "light - text\n",
      "traffic_control - text\n",
      "driver_substance_abuse - text\n",
      "non_motorist_substance_abuse - text\n",
      "person_id - text\n",
      "pedestrian_type - text\n",
      "pedestrian_movement - text\n",
      "pedestrian_actions - text\n",
      "pedestrian_location - text\n",
      "pedestrian_obeyed_traffic_signal - text\n",
      "pedestrian_visibility - text\n",
      "at_fault - text\n",
      "injury_severity - text\n",
      "safety_equipment - text\n",
      "latitude - text\n",
      "longitude - text\n",
      "location - text\n"
     ]
    }
   ],
   "source": [
    "# Fetch all the rows\n",
    "columns = my_cursor.fetchall()\n",
    "# Print column names and data types\n",
    "for column in columns:\n",
    "    print(column[0], \"-\", column[1])"
   ]
  },
  {
   "cell_type": "code",
   "execution_count": 27,
   "id": "25734b26-f57e-4ccc-93a5-af539d4f09b6",
   "metadata": {
    "scrolled": true
   },
   "outputs": [
    {
     "data": {
      "text/plain": [
       "True"
      ]
     },
     "execution_count": 27,
     "metadata": {},
     "output_type": "execute_result"
    }
   ],
   "source": [
    "my_cursor.close()"
   ]
  },
  {
   "cell_type": "code",
   "execution_count": 28,
   "id": "9d24f227-f988-4691-9192-a0736047d382",
   "metadata": {},
   "outputs": [
    {
     "data": {
      "text/html": [
       "<div>\n",
       "<style scoped>\n",
       "    .dataframe tbody tr th:only-of-type {\n",
       "        vertical-align: middle;\n",
       "    }\n",
       "\n",
       "    .dataframe tbody tr th {\n",
       "        vertical-align: top;\n",
       "    }\n",
       "\n",
       "    .dataframe thead th {\n",
       "        text-align: right;\n",
       "    }\n",
       "</style>\n",
       "<table border=\"1\" class=\"dataframe\">\n",
       "  <thead>\n",
       "    <tr style=\"text-align: right;\">\n",
       "      <th></th>\n",
       "      <th>Report Number</th>\n",
       "      <th>Local Case Number</th>\n",
       "      <th>Agency Name</th>\n",
       "      <th>ACRS Report Type</th>\n",
       "      <th>Crash Date/Time</th>\n",
       "      <th>Route Type</th>\n",
       "      <th>Road Name</th>\n",
       "      <th>Cross-Street Type</th>\n",
       "      <th>Cross-Street Name</th>\n",
       "      <th>Off-Road Description</th>\n",
       "      <th>...</th>\n",
       "      <th>Pedestrian Actions</th>\n",
       "      <th>Pedestrian Location</th>\n",
       "      <th>Pedestrian Obeyed Traffic Signal</th>\n",
       "      <th>Pedestrian Visibility</th>\n",
       "      <th>At Fault</th>\n",
       "      <th>Injury Severity</th>\n",
       "      <th>Safety Equipment</th>\n",
       "      <th>Latitude</th>\n",
       "      <th>Longitude</th>\n",
       "      <th>Location</th>\n",
       "    </tr>\n",
       "  </thead>\n",
       "  <tbody>\n",
       "    <tr>\n",
       "      <th>0</th>\n",
       "      <td>MCP2563001L</td>\n",
       "      <td>230017107</td>\n",
       "      <td>Montgomery County Police</td>\n",
       "      <td>Injury Crash</td>\n",
       "      <td>10/04/2023 04:21:00 pm</td>\n",
       "      <td>Maryland (State)</td>\n",
       "      <td>MUNCASTER MILL RD</td>\n",
       "      <td>Unknown</td>\n",
       "      <td>STRUC #15015 ROCK CREEK</td>\n",
       "      <td>NaN</td>\n",
       "      <td>...</td>\n",
       "      <td>FAILURE TO YIELD RIGHT OF WAY</td>\n",
       "      <td>ON ROADWAY AT CROSSWALK</td>\n",
       "      <td>NO PED. SIGNAL</td>\n",
       "      <td>DARK CLOTHING</td>\n",
       "      <td>Yes</td>\n",
       "      <td>SUSPECTED SERIOUS INJURY</td>\n",
       "      <td>NONE</td>\n",
       "      <td>39.137645</td>\n",
       "      <td>-77.129460</td>\n",
       "      <td>(39.13764511, -77.12946041)</td>\n",
       "    </tr>\n",
       "    <tr>\n",
       "      <th>1</th>\n",
       "      <td>MCP2771002B</td>\n",
       "      <td>230034003</td>\n",
       "      <td>Montgomery County Police</td>\n",
       "      <td>Injury Crash</td>\n",
       "      <td>07/17/2023 12:53:00 PM</td>\n",
       "      <td>County</td>\n",
       "      <td>PECAN DR</td>\n",
       "      <td>County</td>\n",
       "      <td>BUTTERNUT DR</td>\n",
       "      <td>NaN</td>\n",
       "      <td>...</td>\n",
       "      <td>OTHER</td>\n",
       "      <td>OTHER</td>\n",
       "      <td>NaN</td>\n",
       "      <td>LIGHT CLOTHING</td>\n",
       "      <td>Yes</td>\n",
       "      <td>SUSPECTED MINOR INJURY</td>\n",
       "      <td>NaN</td>\n",
       "      <td>39.091784</td>\n",
       "      <td>-77.098823</td>\n",
       "      <td>(39.09178359, -77.09882296)</td>\n",
       "    </tr>\n",
       "    <tr>\n",
       "      <th>2</th>\n",
       "      <td>MCP2861005Z</td>\n",
       "      <td>230034963</td>\n",
       "      <td>Montgomery County Police</td>\n",
       "      <td>Injury Crash</td>\n",
       "      <td>07/22/2023 06:58:00 PM</td>\n",
       "      <td>NaN</td>\n",
       "      <td>NaN</td>\n",
       "      <td>NaN</td>\n",
       "      <td>NaN</td>\n",
       "      <td>PARKING LOT OF 7101 DEMOCRACY BLVD</td>\n",
       "      <td>...</td>\n",
       "      <td>IN ROADWAY IMPROPERLY</td>\n",
       "      <td>ON ROADWAY NOT AT CROSSWALK</td>\n",
       "      <td>NO PED. SIGNAL</td>\n",
       "      <td>LIGHT CLOTHING</td>\n",
       "      <td>No</td>\n",
       "      <td>SUSPECTED MINOR INJURY</td>\n",
       "      <td>NONE</td>\n",
       "      <td>39.024061</td>\n",
       "      <td>-77.147620</td>\n",
       "      <td>(39.02406091, -77.14761954)</td>\n",
       "    </tr>\n",
       "    <tr>\n",
       "      <th>3</th>\n",
       "      <td>MCP3299002R</td>\n",
       "      <td>230034733</td>\n",
       "      <td>Montgomery County Police</td>\n",
       "      <td>Property Damage Crash</td>\n",
       "      <td>07/21/2023 11:52:00 AM</td>\n",
       "      <td>Maryland (State)</td>\n",
       "      <td>GEORGIA AVE</td>\n",
       "      <td>County</td>\n",
       "      <td>OLD BALTIMORE RD</td>\n",
       "      <td>NaN</td>\n",
       "      <td>...</td>\n",
       "      <td>NO IMPROPER ACTIONS</td>\n",
       "      <td>ON ROADWAY AT CROSSWALK</td>\n",
       "      <td>OBEYED PED. SIGNAL</td>\n",
       "      <td>LIGHT CLOTHING</td>\n",
       "      <td>No</td>\n",
       "      <td>NO APPARENT INJURY</td>\n",
       "      <td>NaN</td>\n",
       "      <td>39.135263</td>\n",
       "      <td>-77.069760</td>\n",
       "      <td>(39.13526333, -77.06976)</td>\n",
       "    </tr>\n",
       "    <tr>\n",
       "      <th>4</th>\n",
       "      <td>MCP3360000L</td>\n",
       "      <td>230046354</td>\n",
       "      <td>Montgomery County Police</td>\n",
       "      <td>Injury Crash</td>\n",
       "      <td>07/25/2023 10:12:00 AM</td>\n",
       "      <td>County</td>\n",
       "      <td>WATKINS MILL RD</td>\n",
       "      <td>County</td>\n",
       "      <td>STEDWICK RD</td>\n",
       "      <td>NaN</td>\n",
       "      <td>...</td>\n",
       "      <td>NO IMPROPER ACTIONS</td>\n",
       "      <td>AT INTERSECTION MARKED CROSSWALK</td>\n",
       "      <td>OBEYED PED. SIGNAL</td>\n",
       "      <td>UNKNOWN</td>\n",
       "      <td>No</td>\n",
       "      <td>SUSPECTED MINOR INJURY</td>\n",
       "      <td>NONE</td>\n",
       "      <td>39.170558</td>\n",
       "      <td>-77.208889</td>\n",
       "      <td>(39.17055765, -77.20888876)</td>\n",
       "    </tr>\n",
       "  </tbody>\n",
       "</table>\n",
       "<p>5 rows × 32 columns</p>\n",
       "</div>"
      ],
      "text/plain": [
       "  Report Number  Local Case Number               Agency Name  \\\n",
       "0   MCP2563001L          230017107  Montgomery County Police   \n",
       "1   MCP2771002B          230034003  Montgomery County Police   \n",
       "2   MCP2861005Z          230034963  Montgomery County Police   \n",
       "3   MCP3299002R          230034733  Montgomery County Police   \n",
       "4   MCP3360000L          230046354  Montgomery County Police   \n",
       "\n",
       "        ACRS Report Type         Crash Date/Time        Route Type  \\\n",
       "0           Injury Crash  10/04/2023 04:21:00 pm  Maryland (State)   \n",
       "1           Injury Crash  07/17/2023 12:53:00 PM            County   \n",
       "2           Injury Crash  07/22/2023 06:58:00 PM               NaN   \n",
       "3  Property Damage Crash  07/21/2023 11:52:00 AM  Maryland (State)   \n",
       "4           Injury Crash  07/25/2023 10:12:00 AM            County   \n",
       "\n",
       "           Road Name Cross-Street Type        Cross-Street Name  \\\n",
       "0  MUNCASTER MILL RD           Unknown  STRUC #15015 ROCK CREEK   \n",
       "1           PECAN DR            County             BUTTERNUT DR   \n",
       "2                NaN               NaN                      NaN   \n",
       "3        GEORGIA AVE            County         OLD BALTIMORE RD   \n",
       "4    WATKINS MILL RD            County              STEDWICK RD   \n",
       "\n",
       "                 Off-Road Description  ...             Pedestrian Actions  \\\n",
       "0                                 NaN  ...  FAILURE TO YIELD RIGHT OF WAY   \n",
       "1                                 NaN  ...                          OTHER   \n",
       "2  PARKING LOT OF 7101 DEMOCRACY BLVD  ...          IN ROADWAY IMPROPERLY   \n",
       "3                                 NaN  ...            NO IMPROPER ACTIONS   \n",
       "4                                 NaN  ...            NO IMPROPER ACTIONS   \n",
       "\n",
       "                Pedestrian Location Pedestrian Obeyed Traffic Signal  \\\n",
       "0           ON ROADWAY AT CROSSWALK                   NO PED. SIGNAL   \n",
       "1                             OTHER                              NaN   \n",
       "2       ON ROADWAY NOT AT CROSSWALK                   NO PED. SIGNAL   \n",
       "3           ON ROADWAY AT CROSSWALK               OBEYED PED. SIGNAL   \n",
       "4  AT INTERSECTION MARKED CROSSWALK               OBEYED PED. SIGNAL   \n",
       "\n",
       "  Pedestrian Visibility At Fault           Injury Severity Safety Equipment  \\\n",
       "0         DARK CLOTHING      Yes  SUSPECTED SERIOUS INJURY             NONE   \n",
       "1        LIGHT CLOTHING      Yes    SUSPECTED MINOR INJURY              NaN   \n",
       "2        LIGHT CLOTHING       No    SUSPECTED MINOR INJURY             NONE   \n",
       "3        LIGHT CLOTHING       No        NO APPARENT INJURY              NaN   \n",
       "4               UNKNOWN       No    SUSPECTED MINOR INJURY             NONE   \n",
       "\n",
       "    Latitude  Longitude                     Location  \n",
       "0  39.137645 -77.129460  (39.13764511, -77.12946041)  \n",
       "1  39.091784 -77.098823  (39.09178359, -77.09882296)  \n",
       "2  39.024061 -77.147620  (39.02406091, -77.14761954)  \n",
       "3  39.135263 -77.069760     (39.13526333, -77.06976)  \n",
       "4  39.170558 -77.208889  (39.17055765, -77.20888876)  \n",
       "\n",
       "[5 rows x 32 columns]"
      ]
     },
     "execution_count": 28,
     "metadata": {},
     "output_type": "execute_result"
    }
   ],
   "source": [
    "data_set.head()"
   ]
  },
  {
   "cell_type": "code",
   "execution_count": 83,
   "id": "dbd86794-0539-40d8-8fb7-b02ebbfffdb5",
   "metadata": {},
   "outputs": [],
   "source": [
    "create_query='''CREATE TABLE non_motorists_6 (\n",
    "                report_number TEXT,\n",
    "                local_case_number TEXT,\n",
    "                agency_name TEXT,\n",
    "                acrs_report_type TEXT,\n",
    "                crash_date_time TEXT,\n",
    "                route_type TEXT,\n",
    "                road_Name TEXT,\n",
    "                cross_street_type TEXT,\n",
    "                cross_street_name TEXT,\n",
    "                off_road_description TEXT,\n",
    "                municipality TEXT,\n",
    "                related_non_motorist TEXT,\n",
    "                collision_type TEXT,\n",
    "                weather TEXT,\n",
    "                surface_condition TEXT,\n",
    "                light TEXT,\n",
    "                traffic_control TEXT,\n",
    "                driver_substance_abuse TEXT,\n",
    "                non_motorist_substance_abuse TEXT,\n",
    "                person_id TEXT,\n",
    "                pedestrian_type TEXT,\n",
    "                pedestrian_movement TEXT,\n",
    "                pedestrian_actions TEXT,\n",
    "                pedestrian_location TEXT,\n",
    "                pedestrian_obeyed_traffic_signal TEXT,\n",
    "                pedestrian_visibility TEXT,\n",
    "                at_fault TEXT,\n",
    "                injury_severity TEXT,\n",
    "                safety_equipment TEXT,\n",
    "                latitude TEXT,\n",
    "                longitude TEXT,\n",
    "                location TEXT\n",
    "                )'''"
   ]
  },
  {
   "cell_type": "code",
   "execution_count": 84,
   "id": "46dc24fa-caae-4eff-8315-90e138b90425",
   "metadata": {},
   "outputs": [],
   "source": [
    "mycursor.execute(create_query)"
   ]
  },
  {
   "cell_type": "code",
   "execution_count": 85,
   "id": "1ddf463c-f85b-40c3-a32c-30d74b544bc1",
   "metadata": {},
   "outputs": [
    {
     "name": "stdout",
     "output_type": "stream",
     "text": [
      "non_motorists\n",
      "non_motorists_1\n",
      "non_motorists_2\n",
      "non_motorists_3\n",
      "non_motorists_4\n",
      "non_motorists_5\n",
      "non_motorists_6\n"
     ]
    }
   ],
   "source": [
    "mycursor.execute(\"SHOW TABLES\")\n",
    "# Fetch all table names\n",
    "tables = mycursor.fetchall()\n",
    "\n",
    "# Print table names\n",
    "for table in tables:\n",
    "    print(table[0])"
   ]
  },
  {
   "cell_type": "code",
   "execution_count": 86,
   "id": "5d6afb28-69c7-49ef-b89f-7a7578d3abb8",
   "metadata": {},
   "outputs": [],
   "source": [
    "insert_data='''INSERT INTO non_motorists_6 (report_number,local_case_number,agency_name,acrs_report_type,crash_date_time,route_type, road_Name,cross_street_type,cross_street_name,off_road_description,municipality,related_non_motorist,collision_type,weather,surface_condition,light,traffic_control,driver_substance_abuse,non_motorist_substance_abuse,person_id,pedestrian_type,pedestrian_movement,pedestrian_actions,pedestrian_location,pedestrian_obeyed_traffic_signal,pedestrian_visibility,at_fault,injury_severity,safety_equipment,latitude,longitude,location) VALUES ( %s,%s,%s,%s,%s,%s,%s, %s, %s, %s, %s, %s, %s, %s, %s, %s, %s, %s, %s, %s, %s, %s, %s, %s,\n",
    "%s, %s, %s, %s, %s, %s, %s, %s, %s, %s)'''"
   ]
  },
  {
   "cell_type": "code",
   "execution_count": 87,
   "id": "a31c2625-cc52-4d3d-b2ed-c94663387719",
   "metadata": {},
   "outputs": [],
   "source": [
    "select_query=\"select * from non_motorists_6\""
   ]
  },
  {
   "cell_type": "code",
   "execution_count": 89,
   "id": "e19cddc2-e6bd-45bd-8f52-92a7a5494c42",
   "metadata": {},
   "outputs": [
    {
     "data": {
      "text/plain": [
       "True"
      ]
     },
     "execution_count": 89,
     "metadata": {},
     "output_type": "execute_result"
    }
   ],
   "source": [
    "mycursor.close()"
   ]
  },
  {
   "cell_type": "code",
   "execution_count": 90,
   "id": "603f2cd3-5012-4ae7-bc66-0ed041b9f66d",
   "metadata": {},
   "outputs": [],
   "source": [
    "insert_data = 0"
   ]
  },
  {
   "cell_type": "code",
   "execution_count": 17,
   "id": "2f3c67dc-b6a6-46b3-a377-20dc115dfc02",
   "metadata": {},
   "outputs": [],
   "source": [
    "mycursor = connection.cursor()"
   ]
  },
  {
   "cell_type": "code",
   "execution_count": 92,
   "id": "c4f418a6-4afc-45cc-ac84-20b845e1d92c",
   "metadata": {},
   "outputs": [],
   "source": [
    "for index, row in df_filled.iterrows():\n",
    "    mycursor.execute(insert_data, tuple(row))\n",
    "    inserted_records_count += 1"
   ]
  },
  {
   "cell_type": "code",
   "execution_count": null,
   "id": "c3741bc1-714d-48f6-b50f-18007c26b9ee",
   "metadata": {},
   "outputs": [],
   "source": []
  },
  {
   "cell_type": "code",
   "execution_count": null,
   "id": "0bbf8154-a3a3-49ac-9e9d-1ee482ff6009",
   "metadata": {},
   "outputs": [],
   "source": []
  },
  {
   "cell_type": "code",
   "execution_count": 19,
   "id": "49738dcd-c2dc-4d38-b94f-d9da6d549734",
   "metadata": {},
   "outputs": [],
   "source": [
    "mycursor.execute('SELECT * FROM non_motorists_4') # gives all the tables in the database\n",
    "tables = mycursor.fetchall()\n",
    "# Print table names\n",
    "for table in tables:\n",
    "    print(table[0])"
   ]
  },
  {
   "cell_type": "code",
   "execution_count": 23,
   "id": "cd55750c-eb96-4b34-936c-2815660efade",
   "metadata": {},
   "outputs": [],
   "source": [
    "mycursor.execute('''CREATE TABLE non_motorists_5 (\n",
    "                report_number TEXT,\n",
    "                local_case_number TEXT,\n",
    "                agency_name TEXT,\n",
    "                acrs_report_type TEXT,\n",
    "                crash_date_time TEXT,\n",
    "                route_type TEXT,\n",
    "                road_Name TEXT,\n",
    "                cross_street_type TEXT,\n",
    "                cross_street_name TEXT,\n",
    "                off_road_description TEXT,\n",
    "                municipality TEXT,\n",
    "                related_non_motorist TEXT,\n",
    "                collision_type TEXT,\n",
    "                weather TEXT,\n",
    "                surface_condition TEXT,\n",
    "                light TEXT,\n",
    "                traffic_control TEXT,\n",
    "                driver_substance_abuse TEXT,\n",
    "                non_motorist_substance_abuse TEXT,\n",
    "                person_id TEXT,\n",
    "                pedestrian_type TEXT,\n",
    "                pedestrian_movement TEXT,\n",
    "                pedestrian_actions TEXT,\n",
    "                pedestrian_location TEXT,\n",
    "                pedestrian_obeyed_traffic_signal TEXT,\n",
    "                pedestrian_visibility TEXT,\n",
    "                at_fault TEXT,\n",
    "                injury_severity TEXT,\n",
    "                safety_equipment TEXT,\n",
    "                latitude TEXT,\n",
    "                longitude TEXT,\n",
    "                location TEXT\n",
    "                )''') # executing/creating a table\n",
    "connection.commit() # Commit the transaction"
   ]
  },
  {
   "cell_type": "code",
   "execution_count": 30,
   "id": "02a00ec3-bb4d-4443-ab9e-1fbff670d449",
   "metadata": {},
   "outputs": [],
   "source": [
    "mycursor.execute('SELECT * FROM non_motorists_5') # gives all the tables in the database\n",
    "tables = mycursor.fetchall()\n",
    "# Print table names\n",
    "for table in tables:\n",
    "    print(table[0])"
   ]
  },
  {
   "cell_type": "code",
   "execution_count": 31,
   "id": "e6e7ad06-ee09-4974-87a0-d03d8b26fab3",
   "metadata": {},
   "outputs": [],
   "source": [
    "# Execute the query to get column information\n",
    "mycursor.execute(\"DESCRIBE non_motorists_5\")"
   ]
  },
  {
   "cell_type": "code",
   "execution_count": 32,
   "id": "41b831df-c295-4713-bfca-62e960ce3b97",
   "metadata": {},
   "outputs": [
    {
     "name": "stdout",
     "output_type": "stream",
     "text": [
      "report_number - text\n",
      "local_case_number - text\n",
      "agency_name - text\n",
      "acrs_report_type - text\n",
      "crash_date_time - text\n",
      "route_type - text\n",
      "road_Name - text\n",
      "cross_street_type - text\n",
      "cross_street_name - text\n",
      "off_road_description - text\n",
      "municipality - text\n",
      "related_non_motorist - text\n",
      "collision_type - text\n",
      "weather - text\n",
      "surface_condition - text\n",
      "light - text\n",
      "traffic_control - text\n",
      "driver_substance_abuse - text\n",
      "non_motorist_substance_abuse - text\n",
      "person_id - text\n",
      "pedestrian_type - text\n",
      "pedestrian_movement - text\n",
      "pedestrian_actions - text\n",
      "pedestrian_location - text\n",
      "pedestrian_obeyed_traffic_signal - text\n",
      "pedestrian_visibility - text\n",
      "at_fault - text\n",
      "injury_severity - text\n",
      "safety_equipment - text\n",
      "latitude - text\n",
      "longitude - text\n",
      "location - text\n"
     ]
    }
   ],
   "source": [
    "# Fetch all the rows\n",
    "columns = mycursor.fetchall()\n",
    "# Print column names and data types\n",
    "for column in columns:\n",
    "    print(column[0], \"-\", column[1])"
   ]
  },
  {
   "cell_type": "code",
   "execution_count": 33,
   "id": "fd0986de-01e3-41bd-8213-b7858d8c62fc",
   "metadata": {},
   "outputs": [
    {
     "data": {
      "text/plain": [
       "True"
      ]
     },
     "execution_count": 33,
     "metadata": {},
     "output_type": "execute_result"
    }
   ],
   "source": [
    "mycursor.close()"
   ]
  },
  {
   "cell_type": "code",
   "execution_count": 35,
   "id": "507e0f93-5620-46ac-9360-7909d873e56b",
   "metadata": {},
   "outputs": [
    {
     "data": {
      "text/html": [
       "<div>\n",
       "<style scoped>\n",
       "    .dataframe tbody tr th:only-of-type {\n",
       "        vertical-align: middle;\n",
       "    }\n",
       "\n",
       "    .dataframe tbody tr th {\n",
       "        vertical-align: top;\n",
       "    }\n",
       "\n",
       "    .dataframe thead th {\n",
       "        text-align: right;\n",
       "    }\n",
       "</style>\n",
       "<table border=\"1\" class=\"dataframe\">\n",
       "  <thead>\n",
       "    <tr style=\"text-align: right;\">\n",
       "      <th></th>\n",
       "      <th>Report Number</th>\n",
       "      <th>Local Case Number</th>\n",
       "      <th>Agency Name</th>\n",
       "      <th>ACRS Report Type</th>\n",
       "      <th>Crash Date/Time</th>\n",
       "      <th>Route Type</th>\n",
       "      <th>Road Name</th>\n",
       "      <th>Cross-Street Type</th>\n",
       "      <th>Cross-Street Name</th>\n",
       "      <th>Off-Road Description</th>\n",
       "      <th>...</th>\n",
       "      <th>Pedestrian Actions</th>\n",
       "      <th>Pedestrian Location</th>\n",
       "      <th>Pedestrian Obeyed Traffic Signal</th>\n",
       "      <th>Pedestrian Visibility</th>\n",
       "      <th>At Fault</th>\n",
       "      <th>Injury Severity</th>\n",
       "      <th>Safety Equipment</th>\n",
       "      <th>Latitude</th>\n",
       "      <th>Longitude</th>\n",
       "      <th>Location</th>\n",
       "    </tr>\n",
       "  </thead>\n",
       "  <tbody>\n",
       "    <tr>\n",
       "      <th>0</th>\n",
       "      <td>MCP2563001L</td>\n",
       "      <td>230017107</td>\n",
       "      <td>Montgomery County Police</td>\n",
       "      <td>Injury Crash</td>\n",
       "      <td>10/04/2023 04:21:00 pm</td>\n",
       "      <td>Maryland (State)</td>\n",
       "      <td>MUNCASTER MILL RD</td>\n",
       "      <td>Unknown</td>\n",
       "      <td>STRUC #15015 ROCK CREEK</td>\n",
       "      <td>NaN</td>\n",
       "      <td>...</td>\n",
       "      <td>FAILURE TO YIELD RIGHT OF WAY</td>\n",
       "      <td>ON ROADWAY AT CROSSWALK</td>\n",
       "      <td>NO PED. SIGNAL</td>\n",
       "      <td>DARK CLOTHING</td>\n",
       "      <td>Yes</td>\n",
       "      <td>SUSPECTED SERIOUS INJURY</td>\n",
       "      <td>NONE</td>\n",
       "      <td>39.137645</td>\n",
       "      <td>-77.129460</td>\n",
       "      <td>(39.13764511, -77.12946041)</td>\n",
       "    </tr>\n",
       "    <tr>\n",
       "      <th>1</th>\n",
       "      <td>MCP2771002B</td>\n",
       "      <td>230034003</td>\n",
       "      <td>Montgomery County Police</td>\n",
       "      <td>Injury Crash</td>\n",
       "      <td>07/17/2023 12:53:00 PM</td>\n",
       "      <td>County</td>\n",
       "      <td>PECAN DR</td>\n",
       "      <td>County</td>\n",
       "      <td>BUTTERNUT DR</td>\n",
       "      <td>NaN</td>\n",
       "      <td>...</td>\n",
       "      <td>OTHER</td>\n",
       "      <td>OTHER</td>\n",
       "      <td>NaN</td>\n",
       "      <td>LIGHT CLOTHING</td>\n",
       "      <td>Yes</td>\n",
       "      <td>SUSPECTED MINOR INJURY</td>\n",
       "      <td>NaN</td>\n",
       "      <td>39.091784</td>\n",
       "      <td>-77.098823</td>\n",
       "      <td>(39.09178359, -77.09882296)</td>\n",
       "    </tr>\n",
       "    <tr>\n",
       "      <th>2</th>\n",
       "      <td>MCP2861005Z</td>\n",
       "      <td>230034963</td>\n",
       "      <td>Montgomery County Police</td>\n",
       "      <td>Injury Crash</td>\n",
       "      <td>07/22/2023 06:58:00 PM</td>\n",
       "      <td>NaN</td>\n",
       "      <td>NaN</td>\n",
       "      <td>NaN</td>\n",
       "      <td>NaN</td>\n",
       "      <td>PARKING LOT OF 7101 DEMOCRACY BLVD</td>\n",
       "      <td>...</td>\n",
       "      <td>IN ROADWAY IMPROPERLY</td>\n",
       "      <td>ON ROADWAY NOT AT CROSSWALK</td>\n",
       "      <td>NO PED. SIGNAL</td>\n",
       "      <td>LIGHT CLOTHING</td>\n",
       "      <td>No</td>\n",
       "      <td>SUSPECTED MINOR INJURY</td>\n",
       "      <td>NONE</td>\n",
       "      <td>39.024061</td>\n",
       "      <td>-77.147620</td>\n",
       "      <td>(39.02406091, -77.14761954)</td>\n",
       "    </tr>\n",
       "    <tr>\n",
       "      <th>3</th>\n",
       "      <td>MCP3299002R</td>\n",
       "      <td>230034733</td>\n",
       "      <td>Montgomery County Police</td>\n",
       "      <td>Property Damage Crash</td>\n",
       "      <td>07/21/2023 11:52:00 AM</td>\n",
       "      <td>Maryland (State)</td>\n",
       "      <td>GEORGIA AVE</td>\n",
       "      <td>County</td>\n",
       "      <td>OLD BALTIMORE RD</td>\n",
       "      <td>NaN</td>\n",
       "      <td>...</td>\n",
       "      <td>NO IMPROPER ACTIONS</td>\n",
       "      <td>ON ROADWAY AT CROSSWALK</td>\n",
       "      <td>OBEYED PED. SIGNAL</td>\n",
       "      <td>LIGHT CLOTHING</td>\n",
       "      <td>No</td>\n",
       "      <td>NO APPARENT INJURY</td>\n",
       "      <td>NaN</td>\n",
       "      <td>39.135263</td>\n",
       "      <td>-77.069760</td>\n",
       "      <td>(39.13526333, -77.06976)</td>\n",
       "    </tr>\n",
       "    <tr>\n",
       "      <th>4</th>\n",
       "      <td>MCP3360000L</td>\n",
       "      <td>230046354</td>\n",
       "      <td>Montgomery County Police</td>\n",
       "      <td>Injury Crash</td>\n",
       "      <td>07/25/2023 10:12:00 AM</td>\n",
       "      <td>County</td>\n",
       "      <td>WATKINS MILL RD</td>\n",
       "      <td>County</td>\n",
       "      <td>STEDWICK RD</td>\n",
       "      <td>NaN</td>\n",
       "      <td>...</td>\n",
       "      <td>NO IMPROPER ACTIONS</td>\n",
       "      <td>AT INTERSECTION MARKED CROSSWALK</td>\n",
       "      <td>OBEYED PED. SIGNAL</td>\n",
       "      <td>UNKNOWN</td>\n",
       "      <td>No</td>\n",
       "      <td>SUSPECTED MINOR INJURY</td>\n",
       "      <td>NONE</td>\n",
       "      <td>39.170558</td>\n",
       "      <td>-77.208889</td>\n",
       "      <td>(39.17055765, -77.20888876)</td>\n",
       "    </tr>\n",
       "  </tbody>\n",
       "</table>\n",
       "<p>5 rows × 32 columns</p>\n",
       "</div>"
      ],
      "text/plain": [
       "  Report Number  Local Case Number               Agency Name  \\\n",
       "0   MCP2563001L          230017107  Montgomery County Police   \n",
       "1   MCP2771002B          230034003  Montgomery County Police   \n",
       "2   MCP2861005Z          230034963  Montgomery County Police   \n",
       "3   MCP3299002R          230034733  Montgomery County Police   \n",
       "4   MCP3360000L          230046354  Montgomery County Police   \n",
       "\n",
       "        ACRS Report Type         Crash Date/Time        Route Type  \\\n",
       "0           Injury Crash  10/04/2023 04:21:00 pm  Maryland (State)   \n",
       "1           Injury Crash  07/17/2023 12:53:00 PM            County   \n",
       "2           Injury Crash  07/22/2023 06:58:00 PM               NaN   \n",
       "3  Property Damage Crash  07/21/2023 11:52:00 AM  Maryland (State)   \n",
       "4           Injury Crash  07/25/2023 10:12:00 AM            County   \n",
       "\n",
       "           Road Name Cross-Street Type        Cross-Street Name  \\\n",
       "0  MUNCASTER MILL RD           Unknown  STRUC #15015 ROCK CREEK   \n",
       "1           PECAN DR            County             BUTTERNUT DR   \n",
       "2                NaN               NaN                      NaN   \n",
       "3        GEORGIA AVE            County         OLD BALTIMORE RD   \n",
       "4    WATKINS MILL RD            County              STEDWICK RD   \n",
       "\n",
       "                 Off-Road Description  ...             Pedestrian Actions  \\\n",
       "0                                 NaN  ...  FAILURE TO YIELD RIGHT OF WAY   \n",
       "1                                 NaN  ...                          OTHER   \n",
       "2  PARKING LOT OF 7101 DEMOCRACY BLVD  ...          IN ROADWAY IMPROPERLY   \n",
       "3                                 NaN  ...            NO IMPROPER ACTIONS   \n",
       "4                                 NaN  ...            NO IMPROPER ACTIONS   \n",
       "\n",
       "                Pedestrian Location Pedestrian Obeyed Traffic Signal  \\\n",
       "0           ON ROADWAY AT CROSSWALK                   NO PED. SIGNAL   \n",
       "1                             OTHER                              NaN   \n",
       "2       ON ROADWAY NOT AT CROSSWALK                   NO PED. SIGNAL   \n",
       "3           ON ROADWAY AT CROSSWALK               OBEYED PED. SIGNAL   \n",
       "4  AT INTERSECTION MARKED CROSSWALK               OBEYED PED. SIGNAL   \n",
       "\n",
       "  Pedestrian Visibility At Fault           Injury Severity Safety Equipment  \\\n",
       "0         DARK CLOTHING      Yes  SUSPECTED SERIOUS INJURY             NONE   \n",
       "1        LIGHT CLOTHING      Yes    SUSPECTED MINOR INJURY              NaN   \n",
       "2        LIGHT CLOTHING       No    SUSPECTED MINOR INJURY             NONE   \n",
       "3        LIGHT CLOTHING       No        NO APPARENT INJURY              NaN   \n",
       "4               UNKNOWN       No    SUSPECTED MINOR INJURY             NONE   \n",
       "\n",
       "    Latitude  Longitude                     Location  \n",
       "0  39.137645 -77.129460  (39.13764511, -77.12946041)  \n",
       "1  39.091784 -77.098823  (39.09178359, -77.09882296)  \n",
       "2  39.024061 -77.147620  (39.02406091, -77.14761954)  \n",
       "3  39.135263 -77.069760     (39.13526333, -77.06976)  \n",
       "4  39.170558 -77.208889  (39.17055765, -77.20888876)  \n",
       "\n",
       "[5 rows x 32 columns]"
      ]
     },
     "execution_count": 35,
     "metadata": {},
     "output_type": "execute_result"
    }
   ],
   "source": [
    "dataset.head()"
   ]
  },
  {
   "cell_type": "code",
   "execution_count": 36,
   "id": "ca95a554-39e9-4517-a52b-a19b81f6621a",
   "metadata": {},
   "outputs": [],
   "source": [
    "df=dataset"
   ]
  },
  {
   "cell_type": "code",
   "execution_count": 37,
   "id": "8eb29e41-acab-4c48-ac44-e1c1f8430809",
   "metadata": {},
   "outputs": [
    {
     "name": "stdout",
     "output_type": "stream",
     "text": [
      "Report Number                        object\n",
      "Local Case Number                     int64\n",
      "Agency Name                          object\n",
      "ACRS Report Type                     object\n",
      "Crash Date/Time                      object\n",
      "Route Type                           object\n",
      "Road Name                            object\n",
      "Cross-Street Type                    object\n",
      "Cross-Street Name                    object\n",
      "Off-Road Description                 object\n",
      "Municipality                         object\n",
      "Related Non-Motorist                 object\n",
      "Collision Type                       object\n",
      "Weather                              object\n",
      "Surface Condition                    object\n",
      "Light                                object\n",
      "Traffic Control                      object\n",
      "Driver Substance Abuse               object\n",
      "Non-Motorist Substance Abuse         object\n",
      "Person ID                            object\n",
      "Pedestrian Type                      object\n",
      "Pedestrian Movement                  object\n",
      "Pedestrian Actions                   object\n",
      "Pedestrian Location                  object\n",
      "Pedestrian Obeyed Traffic Signal     object\n",
      "Pedestrian Visibility                object\n",
      "At Fault                             object\n",
      "Injury Severity                      object\n",
      "Safety Equipment                     object\n",
      "Latitude                            float64\n",
      "Longitude                           float64\n",
      "Location                             object\n",
      "dtype: object\n"
     ]
    }
   ],
   "source": [
    "print(df.dtypes)"
   ]
  },
  {
   "cell_type": "code",
   "execution_count": 38,
   "id": "e1d74c54-9057-4ce0-b602-9e2cf5475f93",
   "metadata": {},
   "outputs": [],
   "source": [
    "df_filled = df.fillna(\"Missing\")"
   ]
  },
  {
   "cell_type": "code",
   "execution_count": 39,
   "id": "9b8e8120-09ef-40ab-9c95-19db86112163",
   "metadata": {},
   "outputs": [
    {
     "data": {
      "text/html": [
       "<div>\n",
       "<style scoped>\n",
       "    .dataframe tbody tr th:only-of-type {\n",
       "        vertical-align: middle;\n",
       "    }\n",
       "\n",
       "    .dataframe tbody tr th {\n",
       "        vertical-align: top;\n",
       "    }\n",
       "\n",
       "    .dataframe thead th {\n",
       "        text-align: right;\n",
       "    }\n",
       "</style>\n",
       "<table border=\"1\" class=\"dataframe\">\n",
       "  <thead>\n",
       "    <tr style=\"text-align: right;\">\n",
       "      <th></th>\n",
       "      <th>Report Number</th>\n",
       "      <th>Local Case Number</th>\n",
       "      <th>Agency Name</th>\n",
       "      <th>ACRS Report Type</th>\n",
       "      <th>Crash Date/Time</th>\n",
       "      <th>Route Type</th>\n",
       "      <th>Road Name</th>\n",
       "      <th>Cross-Street Type</th>\n",
       "      <th>Cross-Street Name</th>\n",
       "      <th>Off-Road Description</th>\n",
       "      <th>...</th>\n",
       "      <th>Pedestrian Actions</th>\n",
       "      <th>Pedestrian Location</th>\n",
       "      <th>Pedestrian Obeyed Traffic Signal</th>\n",
       "      <th>Pedestrian Visibility</th>\n",
       "      <th>At Fault</th>\n",
       "      <th>Injury Severity</th>\n",
       "      <th>Safety Equipment</th>\n",
       "      <th>Latitude</th>\n",
       "      <th>Longitude</th>\n",
       "      <th>Location</th>\n",
       "    </tr>\n",
       "  </thead>\n",
       "  <tbody>\n",
       "    <tr>\n",
       "      <th>0</th>\n",
       "      <td>MCP2563001L</td>\n",
       "      <td>230017107</td>\n",
       "      <td>Montgomery County Police</td>\n",
       "      <td>Injury Crash</td>\n",
       "      <td>10/04/2023 04:21:00 pm</td>\n",
       "      <td>Maryland (State)</td>\n",
       "      <td>MUNCASTER MILL RD</td>\n",
       "      <td>Unknown</td>\n",
       "      <td>STRUC #15015 ROCK CREEK</td>\n",
       "      <td>Missing</td>\n",
       "      <td>...</td>\n",
       "      <td>FAILURE TO YIELD RIGHT OF WAY</td>\n",
       "      <td>ON ROADWAY AT CROSSWALK</td>\n",
       "      <td>NO PED. SIGNAL</td>\n",
       "      <td>DARK CLOTHING</td>\n",
       "      <td>Yes</td>\n",
       "      <td>SUSPECTED SERIOUS INJURY</td>\n",
       "      <td>NONE</td>\n",
       "      <td>39.137645</td>\n",
       "      <td>-77.129460</td>\n",
       "      <td>(39.13764511, -77.12946041)</td>\n",
       "    </tr>\n",
       "    <tr>\n",
       "      <th>1</th>\n",
       "      <td>MCP2771002B</td>\n",
       "      <td>230034003</td>\n",
       "      <td>Montgomery County Police</td>\n",
       "      <td>Injury Crash</td>\n",
       "      <td>07/17/2023 12:53:00 PM</td>\n",
       "      <td>County</td>\n",
       "      <td>PECAN DR</td>\n",
       "      <td>County</td>\n",
       "      <td>BUTTERNUT DR</td>\n",
       "      <td>Missing</td>\n",
       "      <td>...</td>\n",
       "      <td>OTHER</td>\n",
       "      <td>OTHER</td>\n",
       "      <td>Missing</td>\n",
       "      <td>LIGHT CLOTHING</td>\n",
       "      <td>Yes</td>\n",
       "      <td>SUSPECTED MINOR INJURY</td>\n",
       "      <td>Missing</td>\n",
       "      <td>39.091784</td>\n",
       "      <td>-77.098823</td>\n",
       "      <td>(39.09178359, -77.09882296)</td>\n",
       "    </tr>\n",
       "    <tr>\n",
       "      <th>2</th>\n",
       "      <td>MCP2861005Z</td>\n",
       "      <td>230034963</td>\n",
       "      <td>Montgomery County Police</td>\n",
       "      <td>Injury Crash</td>\n",
       "      <td>07/22/2023 06:58:00 PM</td>\n",
       "      <td>Missing</td>\n",
       "      <td>Missing</td>\n",
       "      <td>Missing</td>\n",
       "      <td>Missing</td>\n",
       "      <td>PARKING LOT OF 7101 DEMOCRACY BLVD</td>\n",
       "      <td>...</td>\n",
       "      <td>IN ROADWAY IMPROPERLY</td>\n",
       "      <td>ON ROADWAY NOT AT CROSSWALK</td>\n",
       "      <td>NO PED. SIGNAL</td>\n",
       "      <td>LIGHT CLOTHING</td>\n",
       "      <td>No</td>\n",
       "      <td>SUSPECTED MINOR INJURY</td>\n",
       "      <td>NONE</td>\n",
       "      <td>39.024061</td>\n",
       "      <td>-77.147620</td>\n",
       "      <td>(39.02406091, -77.14761954)</td>\n",
       "    </tr>\n",
       "    <tr>\n",
       "      <th>3</th>\n",
       "      <td>MCP3299002R</td>\n",
       "      <td>230034733</td>\n",
       "      <td>Montgomery County Police</td>\n",
       "      <td>Property Damage Crash</td>\n",
       "      <td>07/21/2023 11:52:00 AM</td>\n",
       "      <td>Maryland (State)</td>\n",
       "      <td>GEORGIA AVE</td>\n",
       "      <td>County</td>\n",
       "      <td>OLD BALTIMORE RD</td>\n",
       "      <td>Missing</td>\n",
       "      <td>...</td>\n",
       "      <td>NO IMPROPER ACTIONS</td>\n",
       "      <td>ON ROADWAY AT CROSSWALK</td>\n",
       "      <td>OBEYED PED. SIGNAL</td>\n",
       "      <td>LIGHT CLOTHING</td>\n",
       "      <td>No</td>\n",
       "      <td>NO APPARENT INJURY</td>\n",
       "      <td>Missing</td>\n",
       "      <td>39.135263</td>\n",
       "      <td>-77.069760</td>\n",
       "      <td>(39.13526333, -77.06976)</td>\n",
       "    </tr>\n",
       "    <tr>\n",
       "      <th>4</th>\n",
       "      <td>MCP3360000L</td>\n",
       "      <td>230046354</td>\n",
       "      <td>Montgomery County Police</td>\n",
       "      <td>Injury Crash</td>\n",
       "      <td>07/25/2023 10:12:00 AM</td>\n",
       "      <td>County</td>\n",
       "      <td>WATKINS MILL RD</td>\n",
       "      <td>County</td>\n",
       "      <td>STEDWICK RD</td>\n",
       "      <td>Missing</td>\n",
       "      <td>...</td>\n",
       "      <td>NO IMPROPER ACTIONS</td>\n",
       "      <td>AT INTERSECTION MARKED CROSSWALK</td>\n",
       "      <td>OBEYED PED. SIGNAL</td>\n",
       "      <td>UNKNOWN</td>\n",
       "      <td>No</td>\n",
       "      <td>SUSPECTED MINOR INJURY</td>\n",
       "      <td>NONE</td>\n",
       "      <td>39.170558</td>\n",
       "      <td>-77.208889</td>\n",
       "      <td>(39.17055765, -77.20888876)</td>\n",
       "    </tr>\n",
       "  </tbody>\n",
       "</table>\n",
       "<p>5 rows × 32 columns</p>\n",
       "</div>"
      ],
      "text/plain": [
       "  Report Number  Local Case Number               Agency Name  \\\n",
       "0   MCP2563001L          230017107  Montgomery County Police   \n",
       "1   MCP2771002B          230034003  Montgomery County Police   \n",
       "2   MCP2861005Z          230034963  Montgomery County Police   \n",
       "3   MCP3299002R          230034733  Montgomery County Police   \n",
       "4   MCP3360000L          230046354  Montgomery County Police   \n",
       "\n",
       "        ACRS Report Type         Crash Date/Time        Route Type  \\\n",
       "0           Injury Crash  10/04/2023 04:21:00 pm  Maryland (State)   \n",
       "1           Injury Crash  07/17/2023 12:53:00 PM            County   \n",
       "2           Injury Crash  07/22/2023 06:58:00 PM           Missing   \n",
       "3  Property Damage Crash  07/21/2023 11:52:00 AM  Maryland (State)   \n",
       "4           Injury Crash  07/25/2023 10:12:00 AM            County   \n",
       "\n",
       "           Road Name Cross-Street Type        Cross-Street Name  \\\n",
       "0  MUNCASTER MILL RD           Unknown  STRUC #15015 ROCK CREEK   \n",
       "1           PECAN DR            County             BUTTERNUT DR   \n",
       "2            Missing           Missing                  Missing   \n",
       "3        GEORGIA AVE            County         OLD BALTIMORE RD   \n",
       "4    WATKINS MILL RD            County              STEDWICK RD   \n",
       "\n",
       "                 Off-Road Description  ...             Pedestrian Actions  \\\n",
       "0                             Missing  ...  FAILURE TO YIELD RIGHT OF WAY   \n",
       "1                             Missing  ...                          OTHER   \n",
       "2  PARKING LOT OF 7101 DEMOCRACY BLVD  ...          IN ROADWAY IMPROPERLY   \n",
       "3                             Missing  ...            NO IMPROPER ACTIONS   \n",
       "4                             Missing  ...            NO IMPROPER ACTIONS   \n",
       "\n",
       "                Pedestrian Location Pedestrian Obeyed Traffic Signal  \\\n",
       "0           ON ROADWAY AT CROSSWALK                   NO PED. SIGNAL   \n",
       "1                             OTHER                          Missing   \n",
       "2       ON ROADWAY NOT AT CROSSWALK                   NO PED. SIGNAL   \n",
       "3           ON ROADWAY AT CROSSWALK               OBEYED PED. SIGNAL   \n",
       "4  AT INTERSECTION MARKED CROSSWALK               OBEYED PED. SIGNAL   \n",
       "\n",
       "  Pedestrian Visibility At Fault           Injury Severity Safety Equipment  \\\n",
       "0         DARK CLOTHING      Yes  SUSPECTED SERIOUS INJURY             NONE   \n",
       "1        LIGHT CLOTHING      Yes    SUSPECTED MINOR INJURY          Missing   \n",
       "2        LIGHT CLOTHING       No    SUSPECTED MINOR INJURY             NONE   \n",
       "3        LIGHT CLOTHING       No        NO APPARENT INJURY          Missing   \n",
       "4               UNKNOWN       No    SUSPECTED MINOR INJURY             NONE   \n",
       "\n",
       "    Latitude  Longitude                     Location  \n",
       "0  39.137645 -77.129460  (39.13764511, -77.12946041)  \n",
       "1  39.091784 -77.098823  (39.09178359, -77.09882296)  \n",
       "2  39.024061 -77.147620  (39.02406091, -77.14761954)  \n",
       "3  39.135263 -77.069760     (39.13526333, -77.06976)  \n",
       "4  39.170558 -77.208889  (39.17055765, -77.20888876)  \n",
       "\n",
       "[5 rows x 32 columns]"
      ]
     },
     "execution_count": 39,
     "metadata": {},
     "output_type": "execute_result"
    }
   ],
   "source": [
    "df_filled.head()"
   ]
  },
  {
   "cell_type": "code",
   "execution_count": 50,
   "id": "ea49990c-6246-42b5-8276-44ba7f4442ea",
   "metadata": {},
   "outputs": [],
   "source": [
    "insert_data = 0"
   ]
  },
  {
   "cell_type": "code",
   "execution_count": 51,
   "id": "c997f9af-3de6-4909-a74d-a92eccaf8db6",
   "metadata": {},
   "outputs": [],
   "source": [
    "mycursor = connection.cursor()"
   ]
  },
  {
   "cell_type": "code",
   "execution_count": 52,
   "id": "11024f92-d317-4e79-8afb-4022f64c465a",
   "metadata": {},
   "outputs": [],
   "source": [
    "for index, row in df_filled.iterrows():\n",
    "    mycursor.execute(insert_data, tuple(row))\n",
    "    inserted_records_count += 1"
   ]
  },
  {
   "cell_type": "code",
   "execution_count": 53,
   "id": "735681ae-a79b-4499-8182-56596e4411b0",
   "metadata": {},
   "outputs": [],
   "source": [
    "connection.commit()"
   ]
  },
  {
   "cell_type": "code",
   "execution_count": 54,
   "id": "4a403483-c694-4af5-952e-5f4e4da1e919",
   "metadata": {},
   "outputs": [
    {
     "name": "stdout",
     "output_type": "stream",
     "text": [
      "Number of records inserted into table: 0\n"
     ]
    }
   ],
   "source": [
    "print(\"Number of records inserted into table:\", insert_data)"
   ]
  },
  {
   "cell_type": "code",
   "execution_count": 63,
   "id": "f16f0bdb-ac9a-4500-89ac-ba40960f886b",
   "metadata": {},
   "outputs": [],
   "source": [
    "# Execute SELECT COUNT(*) query\n",
    "mycursor.execute(\"SELECT COUNT(*) FROM non_motorists_5\")"
   ]
  },
  {
   "cell_type": "code",
   "execution_count": 64,
   "id": "b8335aba-5701-4502-9a3a-a5dfd0f48e7f",
   "metadata": {},
   "outputs": [
    {
     "name": "stdout",
     "output_type": "stream",
     "text": [
      "Number of records in 'incident_dupe' table: 0\n"
     ]
    }
   ],
   "source": [
    "# Fetch the result\n",
    "count = mycursor.fetchone()[0]\n",
    "print(\"Number of records in 'incident_dupe' table:\", count)"
   ]
  },
  {
   "cell_type": "code",
   "execution_count": 66,
   "id": "c2b6118d-4529-440b-89f0-e6fd101f7a99",
   "metadata": {},
   "outputs": [
    {
     "data": {
      "text/plain": [
       "True"
      ]
     },
     "execution_count": 66,
     "metadata": {},
     "output_type": "execute_result"
    }
   ],
   "source": [
    "mycursor.close()"
   ]
  },
  {
   "cell_type": "code",
   "execution_count": 69,
   "id": "af5cc147-6b42-41d8-a422-441555ca36ce",
   "metadata": {},
   "outputs": [],
   "source": [
    "mycursor = connection.cursor()"
   ]
  },
  {
   "cell_type": "code",
   "execution_count": 68,
   "id": "5da95ece-4104-4cc7-8c37-4192896b890a",
   "metadata": {},
   "outputs": [
    {
     "ename": "NameError",
     "evalue": "name 'drop_columns' is not defined",
     "output_type": "error",
     "traceback": [
      "\u001b[1;31m---------------------------------------------------------------------------\u001b[0m",
      "\u001b[1;31mNameError\u001b[0m                                 Traceback (most recent call last)",
      "Cell \u001b[1;32mIn[68], line 1\u001b[0m\n\u001b[1;32m----> 1\u001b[0m mycursor\u001b[38;5;241m.\u001b[39mexecute(drop_columns)\n",
      "\u001b[1;31mNameError\u001b[0m: name 'drop_columns' is not defined"
     ]
    }
   ],
   "source": [
    "mycursor.execute(drop_columns)"
   ]
  },
  {
   "cell_type": "code",
   "execution_count": null,
   "id": "0b45352e-4bed-4cba-9519-ee53f0f06752",
   "metadata": {},
   "outputs": [],
   "source": []
  },
  {
   "cell_type": "code",
   "execution_count": null,
   "id": "e50e4229-6f60-440c-a634-970d8ebe9d41",
   "metadata": {},
   "outputs": [],
   "source": []
  },
  {
   "cell_type": "code",
   "execution_count": null,
   "id": "cfdf0f79-8ce6-4042-9f73-f4c3f36fbbfb",
   "metadata": {},
   "outputs": [],
   "source": []
  },
  {
   "cell_type": "code",
   "execution_count": null,
   "id": "8671d0d2-eb94-4edc-94f6-ef6a44a4c4f7",
   "metadata": {},
   "outputs": [],
   "source": []
  },
  {
   "cell_type": "code",
   "execution_count": null,
   "id": "d6bea886-f547-42cb-aeaf-0f5d7624a718",
   "metadata": {},
   "outputs": [],
   "source": []
  },
  {
   "cell_type": "code",
   "execution_count": null,
   "id": "6929b27a-4778-478c-a290-cfa2b3367d77",
   "metadata": {},
   "outputs": [],
   "source": []
  },
  {
   "cell_type": "code",
   "execution_count": null,
   "id": "69e14633-42f1-4602-85cb-054bfacaabaf",
   "metadata": {},
   "outputs": [],
   "source": []
  },
  {
   "cell_type": "code",
   "execution_count": null,
   "id": "e8a3d176-c8d6-4e73-978c-05c55a322f33",
   "metadata": {},
   "outputs": [],
   "source": []
  },
  {
   "cell_type": "code",
   "execution_count": null,
   "id": "1439ac37-ce1c-4e3c-91e0-bac99f01811e",
   "metadata": {},
   "outputs": [],
   "source": []
  },
  {
   "cell_type": "code",
   "execution_count": null,
   "id": "67436d7b-b36a-40e6-9d09-c437d8126340",
   "metadata": {},
   "outputs": [],
   "source": [
    "#query = \"ALTER TABLE drivers DROP COLUMN `Off-Road Description`\"\n",
    "#mycursor.execute(query)\n",
    "\n",
    "# Commit the transaction\n",
    "#connection.commit()\n",
    "#delete_query = \"DELETE FROM drivers WHERE `Off-Road Description` = %s\"\n",
    "#value_to_delete = \"value_to_delete\"  # Replace 'value_to_delete' with the actual value you want to delete\n",
    "# mycursor.execute(delete_query, (value_to_delete,))\n",
    "\n",
    "# Commit the transaction\n",
    "#connection.commit()\n",
    "\n",
    "# Print the number of rows deleted\n",
    "#print(f\"{mycursor.rowcount} row(s) deleted.\")"
   ]
  },
  {
   "cell_type": "code",
   "execution_count": null,
   "id": "2889c0e8-9e83-4b95-a07c-863560bff424",
   "metadata": {},
   "outputs": [],
   "source": []
  },
  {
   "cell_type": "code",
   "execution_count": null,
   "id": "c547d1a3-0f9a-4db9-92b4-5e51b8957300",
   "metadata": {},
   "outputs": [],
   "source": []
  }
 ],
 "metadata": {
  "kernelspec": {
   "display_name": "Python 3 (ipykernel)",
   "language": "python",
   "name": "python3"
  },
  "language_info": {
   "codemirror_mode": {
    "name": "ipython",
    "version": 3
   },
   "file_extension": ".py",
   "mimetype": "text/x-python",
   "name": "python",
   "nbconvert_exporter": "python",
   "pygments_lexer": "ipython3",
   "version": "3.11.8"
  }
 },
 "nbformat": 4,
 "nbformat_minor": 5
}
