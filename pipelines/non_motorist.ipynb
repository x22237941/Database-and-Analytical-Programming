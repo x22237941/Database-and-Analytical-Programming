{
 "cells": [
  {
   "cell_type": "code",
   "execution_count": null,
   "id": "d9cd48ce-9b6f-4a62-bfbf-47fa21dbf5dd",
   "metadata": {},
   "outputs": [],
   "source": []
  },
  {
   "cell_type": "code",
   "execution_count": 1,
   "id": "48da1c95-8efb-4914-a743-9a0137411324",
   "metadata": {},
   "outputs": [],
   "source": [
    "import mysql.connector as mysql  \n",
    "import os  \n",
    "import numpy as np\n",
    "import pandas as pd\n",
    "from sqlalchemy import create_engine\n",
    "import numpy as np\n",
    "import matplotlib.pyplot as plt\n",
    "import seaborn as sns\n",
    "%matplotlib inline"
   ]
  },
  {
   "cell_type": "code",
   "execution_count": null,
   "id": "d5d79ce4-9052-4adc-8653-2938f47a15b1",
   "metadata": {},
   "outputs": [],
   "source": []
  },
  {
   "cell_type": "code",
   "execution_count": 2,
   "id": "a6245725-c486-49df-940c-5db3c04d2c94",
   "metadata": {},
   "outputs": [],
   "source": [
    "Data =\"../Database-and-Analytical-Programming/dataset/Non-Motorists_Data_20240404.csv\""
   ]
  },
  {
   "cell_type": "code",
   "execution_count": 3,
   "id": "7cf78ff4-96e5-4dc0-b587-a70402a20f4c",
   "metadata": {},
   "outputs": [
    {
     "name": "stdout",
     "output_type": "stream",
     "text": [
      "Connected to MySQL database\n"
     ]
    }
   ],
   "source": [
    "# MySQL database connection parameters\n",
    "host = 'localhost'\n",
    "user = 'root'\n",
    "password = 'waleed123'\n",
    "database = 'montgomery'\n",
    "\n",
    "# Establish connection\n",
    "connection = mysql.connect(\n",
    "            host=host,\n",
    "            user=user,\n",
    "            password=password,\n",
    "            database=database\n",
    ")\n",
    "\n",
    "if connection.is_connected():\n",
    "    print(\"Connected to MySQL database\")"
   ]
  },
  {
   "cell_type": "code",
   "execution_count": 4,
   "id": "454ba4e0-ca4f-435f-a2e1-0ed9fd7a1f08",
   "metadata": {},
   "outputs": [
    {
     "data": {
      "text/plain": [
       "<mysql.connector.connection_cext.CMySQLConnection at 0x18bb5ff68d0>"
      ]
     },
     "execution_count": 4,
     "metadata": {},
     "output_type": "execute_result"
    }
   ],
   "source": [
    "connection"
   ]
  },
  {
   "cell_type": "code",
   "execution_count": 5,
   "id": "40a014cb-82d9-4fa9-be6a-6a5f4a0753f3",
   "metadata": {},
   "outputs": [],
   "source": [
    "mycursor=connection.cursor()"
   ]
  },
  {
   "cell_type": "code",
   "execution_count": 8,
   "id": "a2ffe961-4cd8-44e9-96c3-bfe66b2f737a",
   "metadata": {},
   "outputs": [],
   "source": [
    "query=\"SELECT count(*) FROM non_motorists\"\n",
    "mycursor.execute(query)\n",
    "results = mycursor.fetchall()"
   ]
  },
  {
   "cell_type": "code",
   "execution_count": 9,
   "id": "b59758c2-e7ca-4575-9712-2c584b1daab4",
   "metadata": {},
   "outputs": [
    {
     "name": "stdout",
     "output_type": "stream",
     "text": [
      "[(5649,)]\n"
     ]
    }
   ],
   "source": [
    "print(results)"
   ]
  },
  {
   "cell_type": "code",
   "execution_count": null,
   "id": "86714079-353d-4540-8503-71a775c01f82",
   "metadata": {},
   "outputs": [],
   "source": []
  },
  {
   "cell_type": "code",
   "execution_count": null,
   "id": "1bf167ab-3264-41dd-bc10-747d288c485e",
   "metadata": {},
   "outputs": [],
   "source": []
  },
  {
   "cell_type": "code",
   "execution_count": null,
   "id": "11d4f713-b486-4c28-9111-b035a88ce26d",
   "metadata": {},
   "outputs": [],
   "source": []
  },
  {
   "cell_type": "code",
   "execution_count": null,
   "id": "1358afcd-480f-467a-b351-152e2c8d765c",
   "metadata": {},
   "outputs": [],
   "source": []
  },
  {
   "cell_type": "code",
   "execution_count": null,
   "id": "25734b26-f57e-4ccc-93a5-af539d4f09b6",
   "metadata": {},
   "outputs": [],
   "source": []
  },
  {
   "cell_type": "code",
   "execution_count": null,
   "id": "67436d7b-b36a-40e6-9d09-c437d8126340",
   "metadata": {},
   "outputs": [],
   "source": []
  },
  {
   "cell_type": "code",
   "execution_count": null,
   "id": "2889c0e8-9e83-4b95-a07c-863560bff424",
   "metadata": {},
   "outputs": [],
   "source": []
  },
  {
   "cell_type": "code",
   "execution_count": null,
   "id": "c547d1a3-0f9a-4db9-92b4-5e51b8957300",
   "metadata": {},
   "outputs": [],
   "source": []
  }
 ],
 "metadata": {
  "kernelspec": {
   "display_name": "Python 3 (ipykernel)",
   "language": "python",
   "name": "python3"
  },
  "language_info": {
   "codemirror_mode": {
    "name": "ipython",
    "version": 3
   },
   "file_extension": ".py",
   "mimetype": "text/x-python",
   "name": "python",
   "nbconvert_exporter": "python",
   "pygments_lexer": "ipython3",
   "version": "3.11.8"
  }
 },
 "nbformat": 4,
 "nbformat_minor": 5
}
